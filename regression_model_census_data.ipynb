{
 "cells": [
  {
   "cell_type": "code",
   "execution_count": 1,
   "metadata": {
    "ExecuteTime": {
     "end_time": "2020-10-13T07:19:14.649018Z",
     "start_time": "2020-10-13T07:19:09.816677Z"
    }
   },
   "outputs": [],
   "source": [
    "import pandas as pd\n",
    "import numpy as np\n",
    "import os\n",
    "import re\n",
    "from pmdarima.arima import auto_arima\n",
    "from statsmodels.tsa.arima_model import ARIMA\n",
    "import matplotlib.pyplot as plt"
   ]
  },
  {
   "cell_type": "markdown",
   "metadata": {
    "ExecuteTime": {
     "end_time": "2020-10-12T07:08:50.020447Z",
     "start_time": "2020-10-12T07:08:50.012440Z"
    }
   },
   "source": [
    "# Prediction based on AGE"
   ]
  },
  {
   "cell_type": "markdown",
   "metadata": {},
   "source": [
    "## Pre-processing\n",
    "### Functions for pre-processing"
   ]
  },
  {
   "cell_type": "code",
   "execution_count": 2,
   "metadata": {
    "ExecuteTime": {
     "end_time": "2020-10-13T07:19:14.664908Z",
     "start_time": "2020-10-13T07:19:14.650756Z"
    }
   },
   "outputs": [],
   "source": [
    "def index_pre_process(dataframe, pattern, pattern_1):\n",
    "    '''\n",
    "    Pre-processing involves following steps:\n",
    "    1. Transpose, such that state codes are columns, and age category is indexes\n",
    "    2. Add population of all state codes to a single column for each category.\n",
    "    3. Keep the total population including male and female for each age category\n",
    "    4. Here we have 0,1,2,3,4 age categories and 0-4 age categories, we will delete indexes of 0,1,2,3,4, since\n",
    "    0-4 is same and this will be easier with less data but same information\n",
    "    '''\n",
    "    \n",
    "    # Transpose step\n",
    "    dataframe_copy = dataframe.T.copy()\n",
    "    \n",
    "    # New column with total sum\n",
    "    dataframe_copy['total_sum'] = pd.Series(np.sum(dataframe_copy, axis=1))\n",
    "    \n",
    "    # removal of all other columns except for 'total sum column'\n",
    "    dataframe_copy.drop(labels = (list(dataframe_copy.columns))[:-1], axis = 1, inplace = True)\n",
    "    \n",
    "    # removal of indexes with 'M' or 'F' and only '0 to 4' kind of categories\n",
    "    index_list = list(dataframe_copy.index)\n",
    "#     updated_index_list = [words for words in index_list\n",
    "#                           if ('M' not in words) & ('F' not in words) & (len(re.findall(pattern = pattern, string = words)) > 0) & (len(re.findall(pattern = pattern_1, string = words)) == 0)]\n",
    "\n",
    "    updated_index_list = [words for words in index_list\n",
    "                          if ('M' not in words) & ('F' not in words) & ((len(re.findall(pattern = pattern, string = words)) > 0) | (len(re.findall(pattern = pattern_1, string = words)) > 0))]\n",
    "\n",
    "\n",
    "    dataframe_copy = dataframe_copy.loc[updated_index_list, :]\n",
    "    \n",
    "    return dataframe_copy\n",
    "    "
   ]
  },
  {
   "cell_type": "code",
   "execution_count": 3,
   "metadata": {
    "ExecuteTime": {
     "end_time": "2020-10-13T07:19:14.680920Z",
     "start_time": "2020-10-13T07:19:14.667994Z"
    }
   },
   "outputs": [],
   "source": [
    "def get_dataframe(path, file_location_1, file_location_2, file_location_3, file_location_4, file_location_5):\n",
    "    # creating dataframes\n",
    "    age_file_df_1 = pd.read_csv(filepath_or_buffer = os.path.join(path, file_location_1), index_col = 0)\n",
    "    age_file_df_2 = pd.read_csv(filepath_or_buffer = os.path.join(path, file_location_2), index_col = 0)\n",
    "    age_file_df_3 = pd.read_csv(filepath_or_buffer = os.path.join(path, file_location_3), index_col = 0)\n",
    "    age_file_df_4 = pd.read_csv(filepath_or_buffer = os.path.join(path, file_location_4), index_col = 0)\n",
    "    age_file_df_5 = pd.read_csv(filepath_or_buffer = os.path.join(path, file_location_5), index_col = 0)\n",
    "    \n",
    "    # using other definition\n",
    "    pattern = '_[0-9]+_'\n",
    "    pattern_1 = '_[0-9]+[a-z]+_'\n",
    "    age_df_1 = index_pre_process(dataframe = age_file_df_1, pattern = pattern, pattern_1 = pattern_1)\n",
    "    age_df_2 = index_pre_process(dataframe = age_file_df_2, pattern = pattern, pattern_1 = pattern_1)\n",
    "    age_df_3 = index_pre_process(dataframe = age_file_df_3, pattern = pattern, pattern_1 = pattern_1)\n",
    "    age_df_4 = index_pre_process(dataframe = age_file_df_4, pattern = pattern, pattern_1 = pattern_1)\n",
    "    age_df_5 = index_pre_process(dataframe = age_file_df_5, pattern = pattern, pattern_1 = pattern_1)\n",
    "    \n",
    "    # contcat all the dataframes\n",
    "    age_df_combined = pd.concat([age_df_1, age_df_2,age_df_3,age_df_4,age_df_5], axis = 0)\n",
    "    \n",
    "    # remove dates like 0_to_4\n",
    "    age_df_combined_index = list(age_df_combined.index)\n",
    "    pattern_2 = '_[0-9]+_[0-9]+_'\n",
    "    updated_index_list_1 = [word for word in age_df_combined_index\n",
    "                            if len(re.findall(pattern = pattern_2, string = word)) == 0]\n",
    "    age_df_combined = age_df_combined.loc[updated_index_list_1,:]\n",
    "    \n",
    "    return age_df_combined"
   ]
  },
  {
   "cell_type": "code",
   "execution_count": 4,
   "metadata": {
    "ExecuteTime": {
     "end_time": "2020-10-13T07:19:14.695921Z",
     "start_time": "2020-10-13T07:19:14.683171Z"
    }
   },
   "outputs": [],
   "source": [
    "direcotry_path = '2016_TSP_STE_for_NSW_short-header/2016 Census TSP States and Territories for NSW/'\n",
    "file_path_1 = '2016Census_T03A_NSW_STE.csv'\n",
    "file_path_2 = '2016Census_T03B_NSW_STE.csv'\n",
    "file_path_3 = '2016Census_T03C_NSW_STE.csv'\n",
    "file_path_4 = '2016Census_T03D_NSW_STE.csv'\n",
    "file_path_5 = '2016Census_T03E_NSW_STE.csv'"
   ]
  },
  {
   "cell_type": "code",
   "execution_count": 5,
   "metadata": {
    "ExecuteTime": {
     "end_time": "2020-10-13T07:19:14.819422Z",
     "start_time": "2020-10-13T07:19:14.697908Z"
    }
   },
   "outputs": [],
   "source": [
    "df = get_dataframe(\n",
    "                        path = direcotry_path,\n",
    "                        file_location_1 = file_path_1,\n",
    "                        file_location_2 = file_path_2,\n",
    "                        file_location_3 = file_path_3,\n",
    "                        file_location_4 = file_path_4,\n",
    "                        file_location_5 = file_path_5\n",
    ")"
   ]
  },
  {
   "cell_type": "code",
   "execution_count": 6,
   "metadata": {
    "ExecuteTime": {
     "end_time": "2020-10-13T07:19:14.834963Z",
     "start_time": "2020-10-13T07:19:14.820872Z"
    }
   },
   "outputs": [],
   "source": [
    "df_index = list(df.index)\n",
    "df['year'] = [words[-4:-2] for words in df_index]"
   ]
  },
  {
   "cell_type": "code",
   "execution_count": 7,
   "metadata": {
    "ExecuteTime": {
     "end_time": "2020-10-13T07:19:14.850898Z",
     "start_time": "2020-10-13T07:19:14.835968Z"
    }
   },
   "outputs": [],
   "source": [
    "index_list_06 = [data for data in df_index\n",
    "                 if df.loc[data,'year'] == '06']\n",
    "index_list_11 = [data for data in df_index\n",
    "                 if df.loc[data,'year'] == '11']\n",
    "index_list_16 = [data for data in df_index\n",
    "                 if df.loc[data,'year'] == '16']"
   ]
  },
  {
   "cell_type": "code",
   "execution_count": 8,
   "metadata": {
    "ExecuteTime": {
     "end_time": "2020-10-13T07:19:14.866236Z",
     "start_time": "2020-10-13T07:19:14.854238Z"
    }
   },
   "outputs": [],
   "source": [
    "df_06 = df.loc[index_list_06, :]\n",
    "df_11 = df.loc[index_list_11, :]\n",
    "df_16 = df.loc[index_list_16, :]"
   ]
  },
  {
   "cell_type": "code",
   "execution_count": 9,
   "metadata": {
    "ExecuteTime": {
     "end_time": "2020-10-13T07:19:14.881633Z",
     "start_time": "2020-10-13T07:19:14.868131Z"
    }
   },
   "outputs": [],
   "source": [
    "df_06_index = df_06.index"
   ]
  },
  {
   "cell_type": "markdown",
   "metadata": {},
   "source": [
    "* Age 18 under population\n",
    "* 18-24,\n",
    "* 25-34,  \n",
    "* 35-44,  \n",
    "* 45-54,  \n",
    "* 55-64,  \n",
    "* 65 and older"
   ]
  },
  {
   "cell_type": "code",
   "execution_count": 10,
   "metadata": {
    "ExecuteTime": {
     "end_time": "2020-10-13T07:19:14.911959Z",
     "start_time": "2020-10-13T07:19:14.884065Z"
    }
   },
   "outputs": [],
   "source": [
    "# under 18\n",
    "zero_18_06 = np.sum(df_06.iloc[:19, 0])\n",
    "zero_18_11 = np.sum(df_11.iloc[:19, 0])\n",
    "zero_18_16 = np.sum(df_16.iloc[:19, 0])\n",
    "\n",
    "# 18 to 25\n",
    "zero_19_24_06 = np.sum(df_06.iloc[19:25, 0])\n",
    "zero_19_24_11 = np.sum(df_11.iloc[19:25, 0])\n",
    "zero_19_24_16 = np.sum(df_16.iloc[19:25, 0])\n",
    "\n",
    "# 25 to 34\n",
    "zero_25_34_06 = np.sum(df_06.iloc[25:35, 0])\n",
    "zero_25_34_11 = np.sum(df_11.iloc[25:35, 0])\n",
    "zero_25_34_16 = np.sum(df_16.iloc[25:35, 0])\n",
    "\n",
    "# 35 to 44\n",
    "zero_35_44_06 = np.sum(df_06.iloc[35:45, 0])\n",
    "zero_35_44_11 = np.sum(df_11.iloc[35:45, 0])\n",
    "zero_35_44_16 = np.sum(df_16.iloc[35:45, 0])\n",
    "\n",
    "# 45 to 54\n",
    "zero_45_54_06 = np.sum(df_06.iloc[45:55, 0])\n",
    "zero_45_54_11 = np.sum(df_11.iloc[45:55, 0])\n",
    "zero_45_54_16 = np.sum(df_16.iloc[45:55, 0])\n",
    "\n",
    "# 55 to 64\n",
    "zero_55_64_06 = np.sum(df_06.iloc[55:65, 0])\n",
    "zero_55_64_11 = np.sum(df_11.iloc[55:65, 0])\n",
    "zero_55_64_16 = np.sum(df_16.iloc[55:65, 0])\n",
    "\n",
    "# 65 above\n",
    "zero_65_ab_06 = np.sum(df_06.iloc[65:, 0])\n",
    "zero_65_ab_11 = np.sum(df_11.iloc[65:, 0])\n",
    "zero_65_ab_16 = np.sum(df_16.iloc[65:, 0])\n"
   ]
  },
  {
   "cell_type": "code",
   "execution_count": 11,
   "metadata": {
    "ExecuteTime": {
     "end_time": "2020-10-13T07:19:14.928066Z",
     "start_time": "2020-10-13T07:19:14.914075Z"
    }
   },
   "outputs": [],
   "source": [
    "age_df = pd.DataFrame()\n",
    "age_df['2006_data'] = pd.Series([zero_18_06, zero_19_24_06, zero_25_34_06, zero_35_44_06, zero_45_54_06, zero_55_64_06, zero_65_ab_06])\n",
    "age_df['2011_data'] = pd.Series([zero_18_11, zero_19_24_11, zero_25_34_11, zero_35_44_11, zero_45_54_11, zero_55_64_11, zero_65_ab_11])\n",
    "age_df['2016_data'] = pd.Series([zero_18_16, zero_19_24_16, zero_25_34_16, zero_35_44_16, zero_45_54_16, zero_55_64_16, zero_65_ab_16])\n",
    "\n",
    "age_df.index = ['below 18 years', '18 to 25', '25 to 34', '35 to 44', '45 to 54', '55 to 64', '65 above']"
   ]
  },
  {
   "cell_type": "code",
   "execution_count": 12,
   "metadata": {
    "ExecuteTime": {
     "end_time": "2020-10-13T07:19:14.958726Z",
     "start_time": "2020-10-13T07:19:14.930093Z"
    }
   },
   "outputs": [
    {
     "data": {
      "text/html": [
       "<div>\n",
       "<style scoped>\n",
       "    .dataframe tbody tr th:only-of-type {\n",
       "        vertical-align: middle;\n",
       "    }\n",
       "\n",
       "    .dataframe tbody tr th {\n",
       "        vertical-align: top;\n",
       "    }\n",
       "\n",
       "    .dataframe thead th {\n",
       "        text-align: right;\n",
       "    }\n",
       "</style>\n",
       "<table border=\"1\" class=\"dataframe\">\n",
       "  <thead>\n",
       "    <tr style=\"text-align: right;\">\n",
       "      <th></th>\n",
       "      <th>below 18 years</th>\n",
       "      <th>18 to 25</th>\n",
       "      <th>25 to 34</th>\n",
       "      <th>35 to 44</th>\n",
       "      <th>45 to 54</th>\n",
       "      <th>55 to 64</th>\n",
       "      <th>65 above</th>\n",
       "      <th>Dates</th>\n",
       "    </tr>\n",
       "  </thead>\n",
       "  <tbody>\n",
       "    <tr>\n",
       "      <th>1</th>\n",
       "      <td>1653876</td>\n",
       "      <td>516768</td>\n",
       "      <td>891047</td>\n",
       "      <td>957844</td>\n",
       "      <td>904337</td>\n",
       "      <td>719539</td>\n",
       "      <td>765073</td>\n",
       "      <td>2006</td>\n",
       "    </tr>\n",
       "    <tr>\n",
       "      <th>2</th>\n",
       "      <td>1688546</td>\n",
       "      <td>537074</td>\n",
       "      <td>941508</td>\n",
       "      <td>971638</td>\n",
       "      <td>950456</td>\n",
       "      <td>810292</td>\n",
       "      <td>867459</td>\n",
       "      <td>2011</td>\n",
       "    </tr>\n",
       "    <tr>\n",
       "      <th>3</th>\n",
       "      <td>1742488</td>\n",
       "      <td>581935</td>\n",
       "      <td>1067528</td>\n",
       "      <td>1002882</td>\n",
       "      <td>977983</td>\n",
       "      <td>889760</td>\n",
       "      <td>1061819</td>\n",
       "      <td>2016</td>\n",
       "    </tr>\n",
       "  </tbody>\n",
       "</table>\n",
       "</div>"
      ],
      "text/plain": [
       "   below 18 years  18 to 25  25 to 34  35 to 44  45 to 54  55 to 64  65 above  \\\n",
       "1         1653876    516768    891047    957844    904337    719539    765073   \n",
       "2         1688546    537074    941508    971638    950456    810292    867459   \n",
       "3         1742488    581935   1067528   1002882    977983    889760   1061819   \n",
       "\n",
       "  Dates  \n",
       "1  2006  \n",
       "2  2011  \n",
       "3  2016  "
      ]
     },
     "execution_count": 12,
     "metadata": {},
     "output_type": "execute_result"
    }
   ],
   "source": [
    "age_df_transposed = age_df.T\n",
    "age_df_transposed.index = ['2006', '2011', '2016']\n",
    "# age_df_transposed.index = pd.DatetimeIndex(data = age_df_transposed.index)\n",
    "age_df_transposed['Dates'] = age_df_transposed.index\n",
    "age_df_transposed.index = ['1', '2','3']\n",
    "age_df_transposed"
   ]
  },
  {
   "cell_type": "code",
   "execution_count": 13,
   "metadata": {
    "ExecuteTime": {
     "end_time": "2020-10-13T07:19:14.973565Z",
     "start_time": "2020-10-13T07:19:14.959865Z"
    }
   },
   "outputs": [
    {
     "data": {
      "text/html": [
       "<div>\n",
       "<style scoped>\n",
       "    .dataframe tbody tr th:only-of-type {\n",
       "        vertical-align: middle;\n",
       "    }\n",
       "\n",
       "    .dataframe tbody tr th {\n",
       "        vertical-align: top;\n",
       "    }\n",
       "\n",
       "    .dataframe thead th {\n",
       "        text-align: right;\n",
       "    }\n",
       "</style>\n",
       "<table border=\"1\" class=\"dataframe\">\n",
       "  <thead>\n",
       "    <tr style=\"text-align: right;\">\n",
       "      <th></th>\n",
       "      <th>below 18 years</th>\n",
       "      <th>18 to 25</th>\n",
       "      <th>25 to 34</th>\n",
       "      <th>35 to 44</th>\n",
       "      <th>45 to 54</th>\n",
       "      <th>55 to 64</th>\n",
       "      <th>65 above</th>\n",
       "      <th>total_population</th>\n",
       "      <th>Dates</th>\n",
       "    </tr>\n",
       "  </thead>\n",
       "  <tbody>\n",
       "    <tr>\n",
       "      <th>1</th>\n",
       "      <td>1653876</td>\n",
       "      <td>516768</td>\n",
       "      <td>891047</td>\n",
       "      <td>957844</td>\n",
       "      <td>904337</td>\n",
       "      <td>719539</td>\n",
       "      <td>765073</td>\n",
       "      <td>6408484</td>\n",
       "      <td>2006</td>\n",
       "    </tr>\n",
       "    <tr>\n",
       "      <th>2</th>\n",
       "      <td>1688546</td>\n",
       "      <td>537074</td>\n",
       "      <td>941508</td>\n",
       "      <td>971638</td>\n",
       "      <td>950456</td>\n",
       "      <td>810292</td>\n",
       "      <td>867459</td>\n",
       "      <td>6766973</td>\n",
       "      <td>2011</td>\n",
       "    </tr>\n",
       "    <tr>\n",
       "      <th>3</th>\n",
       "      <td>1742488</td>\n",
       "      <td>581935</td>\n",
       "      <td>1067528</td>\n",
       "      <td>1002882</td>\n",
       "      <td>977983</td>\n",
       "      <td>889760</td>\n",
       "      <td>1061819</td>\n",
       "      <td>7324395</td>\n",
       "      <td>2016</td>\n",
       "    </tr>\n",
       "  </tbody>\n",
       "</table>\n",
       "</div>"
      ],
      "text/plain": [
       "   below 18 years  18 to 25  25 to 34  35 to 44  45 to 54  55 to 64  65 above  \\\n",
       "1         1653876    516768    891047    957844    904337    719539    765073   \n",
       "2         1688546    537074    941508    971638    950456    810292    867459   \n",
       "3         1742488    581935   1067528   1002882    977983    889760   1061819   \n",
       "\n",
       "   total_population Dates  \n",
       "1           6408484  2006  \n",
       "2           6766973  2011  \n",
       "3           7324395  2016  "
      ]
     },
     "execution_count": 13,
     "metadata": {},
     "output_type": "execute_result"
    }
   ],
   "source": [
    "age_df_transposed['total_population'] = np.sum(age_df_transposed.iloc[:,:-1], axis = 1)\n",
    "cols = list(age_df_transposed.columns)\n",
    "a, b = cols.index('total_population'), cols.index('Dates')\n",
    "cols[b], cols[a] = cols[a], cols[b]\n",
    "age_df_transposed = age_df_transposed[cols]\n",
    "age_df_transposed"
   ]
  },
  {
   "cell_type": "code",
   "execution_count": 14,
   "metadata": {
    "ExecuteTime": {
     "end_time": "2020-10-13T07:19:15.205351Z",
     "start_time": "2020-10-13T07:19:14.975587Z"
    }
   },
   "outputs": [
    {
     "data": {
      "text/plain": [
       "<matplotlib.axes._subplots.AxesSubplot at 0x18214f8a160>"
      ]
     },
     "execution_count": 14,
     "metadata": {},
     "output_type": "execute_result"
    },
    {
     "data": {
      "image/png": "[encoded data removed]",
      "text/plain": [
       "<Figure size 1080x720 with 1 Axes>"
      ]
     },
     "metadata": {
      "needs_background": "light"
     },
     "output_type": "display_data"
    }
   ],
   "source": [
    "age_df_transposed.plot(kind = 'barh', figsize = (15,10))"
   ]
  },
  {
   "cell_type": "markdown",
   "metadata": {},
   "source": [
    "## Regression models"
   ]
  },
  {
   "cell_type": "code",
   "execution_count": 15,
   "metadata": {
    "ExecuteTime": {
     "end_time": "2020-10-13T07:19:15.220876Z",
     "start_time": "2020-10-13T07:19:15.208277Z"
    }
   },
   "outputs": [],
   "source": [
    "from sklearn.linear_model import LinearRegression, HuberRegressor, RANSACRegressor, SGDRegressor, PoissonRegressor"
   ]
  },
  {
   "cell_type": "code",
   "execution_count": 16,
   "metadata": {
    "ExecuteTime": {
     "end_time": "2020-10-13T07:19:15.236735Z",
     "start_time": "2020-10-13T07:19:15.223555Z"
    }
   },
   "outputs": [],
   "source": [
    "def model_results(model, age_df_transposed, column):\n",
    "    X = (age_df_transposed.index).values\n",
    "    y = age_df_transposed.iloc[:,column].values\n",
    "    X = X.reshape(-1,1)\n",
    "    y = y.reshape(-1,1)\n",
    "    column_names = age_df_transposed.columns\n",
    "#     linear_model = LinearRegression()\n",
    "    model.fit(X, y)\n",
    "    X_test = ['4','5','6']\n",
    "    X_test = np.array(X_test, dtype = 'object')\n",
    "    X_test = X_test.reshape(-1,1)\n",
    "    prediction = model.predict(X_test)\n",
    "    prediction = [value  if (value>0) else 0 for value in prediction]\n",
    "    plt.bar(['2006', '2011', '2016','2021', '2026', '2031'], np.append(age_df_transposed.iloc[:,column].values,prediction))\n",
    "    plt.title(column_names[column])\n",
    "    plt.show()\n",
    "    return prediction"
   ]
  },
  {
   "cell_type": "code",
   "execution_count": 17,
   "metadata": {
    "ExecuteTime": {
     "end_time": "2020-10-13T07:19:15.252973Z",
     "start_time": "2020-10-13T07:19:15.238683Z"
    }
   },
   "outputs": [],
   "source": [
    "def create_dataframe(model, dataframe, cols):\n",
    "    prediction_results_partial = []\n",
    "    prediction_results_nested = []\n",
    "    prediction_dates = ['2021', '2026', '2031']\n",
    "    for i in range(len(cols[:-1])):\n",
    "        prediction_results_partial.append(model_results(model,\n",
    "                                                        age_df_transposed = dataframe,\n",
    "                                                        column = i))\n",
    "        prediction_results_nested.append(prediction_results_partial)\n",
    "        prediction_results_partial = []\n",
    "    new_df = pd.DataFrame()\n",
    "    for i in range(len(prediction_results_nested)):\n",
    "        new_df[i] = pd.Series(np.hstack(prediction_results_nested[i][0]))\n",
    "    new_df.index = prediction_dates\n",
    "    column_names = dataframe.columns\n",
    "    new_df.columns = cols[:-1]\n",
    "    return new_df"
   ]
  },
  {
   "cell_type": "code",
   "execution_count": 18,
   "metadata": {
    "ExecuteTime": {
     "end_time": "2020-10-13T07:19:15.268445Z",
     "start_time": "2020-10-13T07:19:15.255268Z"
    }
   },
   "outputs": [],
   "source": [
    "def reset_df(age_df):\n",
    "    age_df_transposed = age_df.T\n",
    "    age_df_transposed.index = ['2006', '2011', '2016']\n",
    "    # age_df_transposed.index = pd.DatetimeIndex(data = age_df_transposed.index)\n",
    "    age_df_transposed['Dates'] = age_df_transposed.index\n",
    "    age_df_transposed.index = ['1', '2','3']\n",
    "    age_df_transposed['total_population'] = np.sum(age_df_transposed.iloc[:,:-1], axis = 1)\n",
    "    cols = list(age_df_transposed.columns)\n",
    "    a, b = cols.index('total_population'), cols.index('Dates')\n",
    "    cols[b], cols[a] = cols[a], cols[b]\n",
    "    age_df_transposed = age_df_transposed[cols]\n",
    "    return age_df_transposed, cols\n",
    "\n",
    "age_df_transposed, cols = reset_df(age_df = age_df)"
   ]
  },
  {
   "cell_type": "markdown",
   "metadata": {
    "ExecuteTime": {
     "end_time": "2020-10-12T06:42:35.353009Z",
     "start_time": "2020-10-12T06:42:35.342825Z"
    }
   },
   "source": [
    "### Linear Regression"
   ]
  },
  {
   "cell_type": "code",
   "execution_count": 19,
   "metadata": {
    "ExecuteTime": {
     "end_time": "2020-10-13T07:19:16.108079Z",
     "start_time": "2020-10-13T07:19:15.269972Z"
    }
   },
   "outputs": [
    {
     "data": {
      "image/png": "[encoded data removed]",
      "text/plain": [
       "<Figure size 432x288 with 1 Axes>"
      ]
     },
     "metadata": {
      "needs_background": "light"
     },
     "output_type": "display_data"
    },
    {
     "data": {
      "image/png": "[encoded data removed]",
      "text/plain": [
       "<Figure size 432x288 with 1 Axes>"
      ]
     },
     "metadata": {
      "needs_background": "light"
     },
     "output_type": "display_data"
    },
    {
     "data": {
      "image/png": "[encoded data removed]",
      "text/plain": [
       "<Figure size 432x288 with 1 Axes>"
      ]
     },
     "metadata": {
      "needs_background": "light"
     },
     "output_type": "display_data"
    },
    {
     "data": {
      "image/png": "[encoded data removed]",
      "text/plain": [
       "<Figure size 432x288 with 1 Axes>"
      ]
     },
     "metadata": {
      "needs_background": "light"
     },
     "output_type": "display_data"
    },
    {
     "data": {
      "image/png": "[encoded data removed]",
      "text/plain": [
       "<Figure size 432x288 with 1 Axes>"
      ]
     },
     "metadata": {
      "needs_background": "light"
     },
     "output_type": "display_data"
    },
    {
     "data": {
      "image/png": "[encoded data removed]",
      "text/plain": [
       "<Figure size 432x288 with 1 Axes>"
      ]
     },
     "metadata": {
      "needs_background": "light"
     },
     "output_type": "display_data"
    },
    {
     "data": {
      "image/png": "[encoded data removed]",
      "text/plain": [
       "<Figure size 432x288 with 1 Axes>"
      ]
     },
     "metadata": {
      "needs_background": "light"
     },
     "output_type": "display_data"
    },
    {
     "data": {
      "image/png": "[encoded data removed]",
      "text/plain": [
       "<Figure size 432x288 with 1 Axes>"
      ]
     },
     "metadata": {
      "needs_background": "light"
     },
     "output_type": "display_data"
    }
   ],
   "source": [
    "model = LinearRegression()\n",
    "linear_prediction_df = create_dataframe(model, age_df_transposed, cols)\n",
    "age_df_transposed.index = age_df_transposed.Dates\n",
    "df_with_linear_results = pd.concat([age_df_transposed.drop(labels = 'Dates', axis = 1), linear_prediction_df])"
   ]
  },
  {
   "cell_type": "code",
   "execution_count": 20,
   "metadata": {
    "ExecuteTime": {
     "end_time": "2020-10-13T07:19:16.139424Z",
     "start_time": "2020-10-13T07:19:16.110388Z"
    }
   },
   "outputs": [
    {
     "data": {
      "text/html": [
       "<div>\n",
       "<style scoped>\n",
       "    .dataframe tbody tr th:only-of-type {\n",
       "        vertical-align: middle;\n",
       "    }\n",
       "\n",
       "    .dataframe tbody tr th {\n",
       "        vertical-align: top;\n",
       "    }\n",
       "\n",
       "    .dataframe thead th {\n",
       "        text-align: right;\n",
       "    }\n",
       "</style>\n",
       "<table border=\"1\" class=\"dataframe\">\n",
       "  <thead>\n",
       "    <tr style=\"text-align: right;\">\n",
       "      <th></th>\n",
       "      <th>below 18 years_linear_model</th>\n",
       "      <th>18 to 25_linear_model</th>\n",
       "      <th>25 to 34_linear_model</th>\n",
       "      <th>35 to 44_linear_model</th>\n",
       "      <th>45 to 54_linear_model</th>\n",
       "      <th>55 to 64_linear_model</th>\n",
       "      <th>65 above_linear_model</th>\n",
       "      <th>total_population_linear_model</th>\n",
       "    </tr>\n",
       "  </thead>\n",
       "  <tbody>\n",
       "    <tr>\n",
       "      <th>2006</th>\n",
       "      <td>1653876.0</td>\n",
       "      <td>516768.0</td>\n",
       "      <td>8.910470e+05</td>\n",
       "      <td>9.578440e+05</td>\n",
       "      <td>9.043370e+05</td>\n",
       "      <td>7.195390e+05</td>\n",
       "      <td>765073.0</td>\n",
       "      <td>6408484.0</td>\n",
       "    </tr>\n",
       "    <tr>\n",
       "      <th>2011</th>\n",
       "      <td>1688546.0</td>\n",
       "      <td>537074.0</td>\n",
       "      <td>9.415080e+05</td>\n",
       "      <td>9.716380e+05</td>\n",
       "      <td>9.504560e+05</td>\n",
       "      <td>8.102920e+05</td>\n",
       "      <td>867459.0</td>\n",
       "      <td>6766973.0</td>\n",
       "    </tr>\n",
       "    <tr>\n",
       "      <th>2016</th>\n",
       "      <td>1742488.0</td>\n",
       "      <td>581935.0</td>\n",
       "      <td>1.067528e+06</td>\n",
       "      <td>1.002882e+06</td>\n",
       "      <td>9.779830e+05</td>\n",
       "      <td>8.897600e+05</td>\n",
       "      <td>1061819.0</td>\n",
       "      <td>7324395.0</td>\n",
       "    </tr>\n",
       "    <tr>\n",
       "      <th>2021</th>\n",
       "      <td>1783582.0</td>\n",
       "      <td>610426.0</td>\n",
       "      <td>1.143175e+06</td>\n",
       "      <td>1.022493e+06</td>\n",
       "      <td>1.017905e+06</td>\n",
       "      <td>9.767513e+05</td>\n",
       "      <td>1194863.0</td>\n",
       "      <td>7749195.0</td>\n",
       "    </tr>\n",
       "    <tr>\n",
       "      <th>2026</th>\n",
       "      <td>1827888.0</td>\n",
       "      <td>643009.5</td>\n",
       "      <td>1.231416e+06</td>\n",
       "      <td>1.045012e+06</td>\n",
       "      <td>1.054728e+06</td>\n",
       "      <td>1.061862e+06</td>\n",
       "      <td>1343236.0</td>\n",
       "      <td>8207150.5</td>\n",
       "    </tr>\n",
       "    <tr>\n",
       "      <th>2031</th>\n",
       "      <td>1872194.0</td>\n",
       "      <td>675593.0</td>\n",
       "      <td>1.319656e+06</td>\n",
       "      <td>1.067531e+06</td>\n",
       "      <td>1.091551e+06</td>\n",
       "      <td>1.146972e+06</td>\n",
       "      <td>1491609.0</td>\n",
       "      <td>8665106.0</td>\n",
       "    </tr>\n",
       "  </tbody>\n",
       "</table>\n",
       "</div>"
      ],
      "text/plain": [
       "      below 18 years_linear_model  18 to 25_linear_model  \\\n",
       "2006                    1653876.0               516768.0   \n",
       "2011                    1688546.0               537074.0   \n",
       "2016                    1742488.0               581935.0   \n",
       "2021                    1783582.0               610426.0   \n",
       "2026                    1827888.0               643009.5   \n",
       "2031                    1872194.0               675593.0   \n",
       "\n",
       "      25 to 34_linear_model  35 to 44_linear_model  45 to 54_linear_model  \\\n",
       "2006           8.910470e+05           9.578440e+05           9.043370e+05   \n",
       "2011           9.415080e+05           9.716380e+05           9.504560e+05   \n",
       "2016           1.067528e+06           1.002882e+06           9.779830e+05   \n",
       "2021           1.143175e+06           1.022493e+06           1.017905e+06   \n",
       "2026           1.231416e+06           1.045012e+06           1.054728e+06   \n",
       "2031           1.319656e+06           1.067531e+06           1.091551e+06   \n",
       "\n",
       "      55 to 64_linear_model  65 above_linear_model  \\\n",
       "2006           7.195390e+05               765073.0   \n",
       "2011           8.102920e+05               867459.0   \n",
       "2016           8.897600e+05              1061819.0   \n",
       "2021           9.767513e+05              1194863.0   \n",
       "2026           1.061862e+06              1343236.0   \n",
       "2031           1.146972e+06              1491609.0   \n",
       "\n",
       "      total_population_linear_model  \n",
       "2006                      6408484.0  \n",
       "2011                      6766973.0  \n",
       "2016                      7324395.0  \n",
       "2021                      7749195.0  \n",
       "2026                      8207150.5  \n",
       "2031                      8665106.0  "
      ]
     },
     "execution_count": 20,
     "metadata": {},
     "output_type": "execute_result"
    }
   ],
   "source": [
    "df_with_linear_results = df_with_linear_results.add_suffix('_linear_model')\n",
    "df_with_linear_results"
   ]
  },
  {
   "cell_type": "markdown",
   "metadata": {
    "ExecuteTime": {
     "end_time": "2020-10-12T06:43:49.461966Z",
     "start_time": "2020-10-12T06:43:49.445643Z"
    }
   },
   "source": [
    "### Huber Regression Model"
   ]
  },
  {
   "cell_type": "code",
   "execution_count": 21,
   "metadata": {
    "ExecuteTime": {
     "end_time": "2020-10-13T07:19:17.056728Z",
     "start_time": "2020-10-13T07:19:16.142268Z"
    }
   },
   "outputs": [
    {
     "name": "stderr",
     "output_type": "stream",
     "text": [
      "C:\\Users\\Arjun Janamatti\\Anaconda3\\envs\\tf_nptel\\lib\\site-packages\\sklearn\\utils\\validation.py:73: DataConversionWarning: A column-vector y was passed when a 1d array was expected. Please change the shape of y to (n_samples, ), for example using ravel().\n",
      "  return f(**kwargs)\n"
     ]
    },
    {
     "data": {
      "image/png": "[encoded data removed]",
      "text/plain": [
       "<Figure size 432x288 with 1 Axes>"
      ]
     },
     "metadata": {
      "needs_background": "light"
     },
     "output_type": "display_data"
    },
    {
     "name": "stderr",
     "output_type": "stream",
     "text": [
      "C:\\Users\\Arjun Janamatti\\Anaconda3\\envs\\tf_nptel\\lib\\site-packages\\sklearn\\utils\\validation.py:73: DataConversionWarning: A column-vector y was passed when a 1d array was expected. Please change the shape of y to (n_samples, ), for example using ravel().\n",
      "  return f(**kwargs)\n"
     ]
    },
    {
     "data": {
      "image/png": "[encoded data removed]",
      "text/plain": [
       "<Figure size 432x288 with 1 Axes>"
      ]
     },
     "metadata": {
      "needs_background": "light"
     },
     "output_type": "display_data"
    },
    {
     "name": "stderr",
     "output_type": "stream",
     "text": [
      "C:\\Users\\Arjun Janamatti\\Anaconda3\\envs\\tf_nptel\\lib\\site-packages\\sklearn\\utils\\validation.py:73: DataConversionWarning: A column-vector y was passed when a 1d array was expected. Please change the shape of y to (n_samples, ), for example using ravel().\n",
      "  return f(**kwargs)\n"
     ]
    },
    {
     "data": {
      "image/png": "[encoded data removed]",
      "text/plain": [
       "<Figure size 432x288 with 1 Axes>"
      ]
     },
     "metadata": {
      "needs_background": "light"
     },
     "output_type": "display_data"
    },
    {
     "name": "stderr",
     "output_type": "stream",
     "text": [
      "C:\\Users\\Arjun Janamatti\\Anaconda3\\envs\\tf_nptel\\lib\\site-packages\\sklearn\\utils\\validation.py:73: DataConversionWarning: A column-vector y was passed when a 1d array was expected. Please change the shape of y to (n_samples, ), for example using ravel().\n",
      "  return f(**kwargs)\n"
     ]
    },
    {
     "data": {
      "image/png": "[encoded data removed]",
      "text/plain": [
       "<Figure size 432x288 with 1 Axes>"
      ]
     },
     "metadata": {
      "needs_background": "light"
     },
     "output_type": "display_data"
    },
    {
     "name": "stderr",
     "output_type": "stream",
     "text": [
      "C:\\Users\\Arjun Janamatti\\Anaconda3\\envs\\tf_nptel\\lib\\site-packages\\sklearn\\utils\\validation.py:73: DataConversionWarning: A column-vector y was passed when a 1d array was expected. Please change the shape of y to (n_samples, ), for example using ravel().\n",
      "  return f(**kwargs)\n"
     ]
    },
    {
     "data": {
      "image/png": "[encoded data removed]",
      "text/plain": [
       "<Figure size 432x288 with 1 Axes>"
      ]
     },
     "metadata": {
      "needs_background": "light"
     },
     "output_type": "display_data"
    },
    {
     "name": "stderr",
     "output_type": "stream",
     "text": [
      "C:\\Users\\Arjun Janamatti\\Anaconda3\\envs\\tf_nptel\\lib\\site-packages\\sklearn\\utils\\validation.py:73: DataConversionWarning: A column-vector y was passed when a 1d array was expected. Please change the shape of y to (n_samples, ), for example using ravel().\n",
      "  return f(**kwargs)\n"
     ]
    },
    {
     "data": {
      "image/png": "[encoded data removed]",
      "text/plain": [
       "<Figure size 432x288 with 1 Axes>"
      ]
     },
     "metadata": {
      "needs_background": "light"
     },
     "output_type": "display_data"
    },
    {
     "name": "stderr",
     "output_type": "stream",
     "text": [
      "C:\\Users\\Arjun Janamatti\\Anaconda3\\envs\\tf_nptel\\lib\\site-packages\\sklearn\\utils\\validation.py:73: DataConversionWarning: A column-vector y was passed when a 1d array was expected. Please change the shape of y to (n_samples, ), for example using ravel().\n",
      "  return f(**kwargs)\n"
     ]
    },
    {
     "data": {
      "image/png": "[encoded data removed]",
      "text/plain": [
       "<Figure size 432x288 with 1 Axes>"
      ]
     },
     "metadata": {
      "needs_background": "light"
     },
     "output_type": "display_data"
    },
    {
     "name": "stderr",
     "output_type": "stream",
     "text": [
      "C:\\Users\\Arjun Janamatti\\Anaconda3\\envs\\tf_nptel\\lib\\site-packages\\sklearn\\utils\\validation.py:73: DataConversionWarning: A column-vector y was passed when a 1d array was expected. Please change the shape of y to (n_samples, ), for example using ravel().\n",
      "  return f(**kwargs)\n"
     ]
    },
    {
     "data": {
      "image/png": "[encoded data removed]",
      "text/plain": [
       "<Figure size 432x288 with 1 Axes>"
      ]
     },
     "metadata": {
      "needs_background": "light"
     },
     "output_type": "display_data"
    }
   ],
   "source": [
    "age_df_transposed, cols = reset_df(age_df = age_df)\n",
    "huber_model = HuberRegressor()\n",
    "huber_prediction_df = create_dataframe(huber_model, age_df_transposed, cols)\n",
    "age_df_transposed.index = age_df_transposed.Dates\n",
    "df_with_huber_results = pd.concat([age_df_transposed.drop(labels = 'Dates', axis = 1), huber_prediction_df])\n"
   ]
  },
  {
   "cell_type": "code",
   "execution_count": 22,
   "metadata": {
    "ExecuteTime": {
     "end_time": "2020-10-13T07:19:17.088010Z",
     "start_time": "2020-10-13T07:19:17.058760Z"
    }
   },
   "outputs": [
    {
     "data": {
      "text/html": [
       "<div>\n",
       "<style scoped>\n",
       "    .dataframe tbody tr th:only-of-type {\n",
       "        vertical-align: middle;\n",
       "    }\n",
       "\n",
       "    .dataframe tbody tr th {\n",
       "        vertical-align: top;\n",
       "    }\n",
       "\n",
       "    .dataframe thead th {\n",
       "        text-align: right;\n",
       "    }\n",
       "</style>\n",
       "<table border=\"1\" class=\"dataframe\">\n",
       "  <thead>\n",
       "    <tr style=\"text-align: right;\">\n",
       "      <th></th>\n",
       "      <th>below 18 years_huber_model</th>\n",
       "      <th>18 to 25_huber_model</th>\n",
       "      <th>25 to 34_huber_model</th>\n",
       "      <th>35 to 44_huber_model</th>\n",
       "      <th>45 to 54_huber_model</th>\n",
       "      <th>55 to 64_huber_model</th>\n",
       "      <th>65 above_huber_model</th>\n",
       "      <th>total_population_huber_model</th>\n",
       "    </tr>\n",
       "  </thead>\n",
       "  <tbody>\n",
       "    <tr>\n",
       "      <th>2006</th>\n",
       "      <td>1.653876e+06</td>\n",
       "      <td>516768.000000</td>\n",
       "      <td>8.910470e+05</td>\n",
       "      <td>9.578440e+05</td>\n",
       "      <td>9.043370e+05</td>\n",
       "      <td>719539.000000</td>\n",
       "      <td>7.650730e+05</td>\n",
       "      <td>6.408484e+06</td>\n",
       "    </tr>\n",
       "    <tr>\n",
       "      <th>2011</th>\n",
       "      <td>1.688546e+06</td>\n",
       "      <td>537074.000000</td>\n",
       "      <td>9.415080e+05</td>\n",
       "      <td>9.716380e+05</td>\n",
       "      <td>9.504560e+05</td>\n",
       "      <td>810292.000000</td>\n",
       "      <td>8.674590e+05</td>\n",
       "      <td>6.766973e+06</td>\n",
       "    </tr>\n",
       "    <tr>\n",
       "      <th>2016</th>\n",
       "      <td>1.742488e+06</td>\n",
       "      <td>581935.000000</td>\n",
       "      <td>1.067528e+06</td>\n",
       "      <td>1.002882e+06</td>\n",
       "      <td>9.779830e+05</td>\n",
       "      <td>889760.000000</td>\n",
       "      <td>1.061819e+06</td>\n",
       "      <td>7.324395e+06</td>\n",
       "    </tr>\n",
       "    <tr>\n",
       "      <th>2021</th>\n",
       "      <td>1.740921e+06</td>\n",
       "      <td>577738.905809</td>\n",
       "      <td>1.000594e+06</td>\n",
       "      <td>1.008841e+06</td>\n",
       "      <td>9.967112e+05</td>\n",
       "      <td>855449.615679</td>\n",
       "      <td>9.460281e+05</td>\n",
       "      <td>6.881850e+06</td>\n",
       "    </tr>\n",
       "    <tr>\n",
       "      <th>2026</th>\n",
       "      <td>1.764820e+06</td>\n",
       "      <td>598059.030736</td>\n",
       "      <td>1.024493e+06</td>\n",
       "      <td>1.025443e+06</td>\n",
       "      <td>1.020610e+06</td>\n",
       "      <td>879909.256289</td>\n",
       "      <td>9.699836e+05</td>\n",
       "      <td>6.906133e+06</td>\n",
       "    </tr>\n",
       "    <tr>\n",
       "      <th>2031</th>\n",
       "      <td>1.788718e+06</td>\n",
       "      <td>618379.155664</td>\n",
       "      <td>1.048392e+06</td>\n",
       "      <td>1.042044e+06</td>\n",
       "      <td>1.044508e+06</td>\n",
       "      <td>904368.896900</td>\n",
       "      <td>9.939392e+05</td>\n",
       "      <td>6.930416e+06</td>\n",
       "    </tr>\n",
       "  </tbody>\n",
       "</table>\n",
       "</div>"
      ],
      "text/plain": [
       "      below 18 years_huber_model  18 to 25_huber_model  25 to 34_huber_model  \\\n",
       "2006                1.653876e+06         516768.000000          8.910470e+05   \n",
       "2011                1.688546e+06         537074.000000          9.415080e+05   \n",
       "2016                1.742488e+06         581935.000000          1.067528e+06   \n",
       "2021                1.740921e+06         577738.905809          1.000594e+06   \n",
       "2026                1.764820e+06         598059.030736          1.024493e+06   \n",
       "2031                1.788718e+06         618379.155664          1.048392e+06   \n",
       "\n",
       "      35 to 44_huber_model  45 to 54_huber_model  55 to 64_huber_model  \\\n",
       "2006          9.578440e+05          9.043370e+05         719539.000000   \n",
       "2011          9.716380e+05          9.504560e+05         810292.000000   \n",
       "2016          1.002882e+06          9.779830e+05         889760.000000   \n",
       "2021          1.008841e+06          9.967112e+05         855449.615679   \n",
       "2026          1.025443e+06          1.020610e+06         879909.256289   \n",
       "2031          1.042044e+06          1.044508e+06         904368.896900   \n",
       "\n",
       "      65 above_huber_model  total_population_huber_model  \n",
       "2006          7.650730e+05                  6.408484e+06  \n",
       "2011          8.674590e+05                  6.766973e+06  \n",
       "2016          1.061819e+06                  7.324395e+06  \n",
       "2021          9.460281e+05                  6.881850e+06  \n",
       "2026          9.699836e+05                  6.906133e+06  \n",
       "2031          9.939392e+05                  6.930416e+06  "
      ]
     },
     "execution_count": 22,
     "metadata": {},
     "output_type": "execute_result"
    }
   ],
   "source": [
    "df_with_huber_results = df_with_huber_results.add_suffix('_huber_model')\n",
    "df_with_huber_results"
   ]
  },
  {
   "cell_type": "markdown",
   "metadata": {},
   "source": [
    "### RANSAC Regression"
   ]
  },
  {
   "cell_type": "code",
   "execution_count": 23,
   "metadata": {
    "ExecuteTime": {
     "end_time": "2020-10-13T07:19:18.004438Z",
     "start_time": "2020-10-13T07:19:17.093017Z"
    }
   },
   "outputs": [
    {
     "data": {
      "image/png": "[encoded data removed]",
      "text/plain": [
       "<Figure size 432x288 with 1 Axes>"
      ]
     },
     "metadata": {
      "needs_background": "light"
     },
     "output_type": "display_data"
    },
    {
     "data": {
      "image/png": "[encoded data removed]",
      "text/plain": [
       "<Figure size 432x288 with 1 Axes>"
      ]
     },
     "metadata": {
      "needs_background": "light"
     },
     "output_type": "display_data"
    },
    {
     "data": {
      "image/png": "[encoded data removed]",
      "text/plain": [
       "<Figure size 432x288 with 1 Axes>"
      ]
     },
     "metadata": {
      "needs_background": "light"
     },
     "output_type": "display_data"
    },
    {
     "data": {
      "image/png": "[encoded data removed]",
      "text/plain": [
       "<Figure size 432x288 with 1 Axes>"
      ]
     },
     "metadata": {
      "needs_background": "light"
     },
     "output_type": "display_data"
    },
    {
     "data": {
      "image/png": "[encoded data removed]",
      "text/plain": [
       "<Figure size 432x288 with 1 Axes>"
      ]
     },
     "metadata": {
      "needs_background": "light"
     },
     "output_type": "display_data"
    },
    {
     "data": {
      "image/png": "[encoded data removed]",
      "text/plain": [
       "<Figure size 432x288 with 1 Axes>"
      ]
     },
     "metadata": {
      "needs_background": "light"
     },
     "output_type": "display_data"
    },
    {
     "data": {
      "image/png": "[encoded data removed]",
      "text/plain": [
       "<Figure size 432x288 with 1 Axes>"
      ]
     },
     "metadata": {
      "needs_background": "light"
     },
     "output_type": "display_data"
    },
    {
     "data": {
      "image/png": "[encoded data removed]",
      "text/plain": [
       "<Figure size 432x288 with 1 Axes>"
      ]
     },
     "metadata": {
      "needs_background": "light"
     },
     "output_type": "display_data"
    }
   ],
   "source": [
    "age_df_transposed, cols = reset_df(age_df = age_df)\n",
    "ransac_model = RANSACRegressor()\n",
    "ransac_prediction_df = create_dataframe(ransac_model, age_df_transposed, cols)\n",
    "age_df_transposed.index = age_df_transposed.Dates\n",
    "df_with_ransac_results = pd.concat([age_df_transposed.drop(labels = 'Dates', axis = 1), ransac_prediction_df])\n"
   ]
  },
  {
   "cell_type": "code",
   "execution_count": 24,
   "metadata": {
    "ExecuteTime": {
     "end_time": "2020-10-13T07:19:18.035240Z",
     "start_time": "2020-10-13T07:19:18.007237Z"
    }
   },
   "outputs": [
    {
     "data": {
      "text/html": [
       "<div>\n",
       "<style scoped>\n",
       "    .dataframe tbody tr th:only-of-type {\n",
       "        vertical-align: middle;\n",
       "    }\n",
       "\n",
       "    .dataframe tbody tr th {\n",
       "        vertical-align: top;\n",
       "    }\n",
       "\n",
       "    .dataframe thead th {\n",
       "        text-align: right;\n",
       "    }\n",
       "</style>\n",
       "<table border=\"1\" class=\"dataframe\">\n",
       "  <thead>\n",
       "    <tr style=\"text-align: right;\">\n",
       "      <th></th>\n",
       "      <th>below 18 years_ransac_model</th>\n",
       "      <th>18 to 25_ransac_model</th>\n",
       "      <th>25 to 34_ransac_model</th>\n",
       "      <th>35 to 44_ransac_model</th>\n",
       "      <th>45 to 54_ransac_model</th>\n",
       "      <th>55 to 64_ransac_model</th>\n",
       "      <th>65 above_ransac_model</th>\n",
       "      <th>total_population_ransac_model</th>\n",
       "    </tr>\n",
       "  </thead>\n",
       "  <tbody>\n",
       "    <tr>\n",
       "      <th>2006</th>\n",
       "      <td>1653876.0</td>\n",
       "      <td>516768.0</td>\n",
       "      <td>8.910470e+05</td>\n",
       "      <td>957844.0</td>\n",
       "      <td>9.043370e+05</td>\n",
       "      <td>7.195390e+05</td>\n",
       "      <td>765073.0</td>\n",
       "      <td>6408484.0</td>\n",
       "    </tr>\n",
       "    <tr>\n",
       "      <th>2011</th>\n",
       "      <td>1688546.0</td>\n",
       "      <td>537074.0</td>\n",
       "      <td>9.415080e+05</td>\n",
       "      <td>971638.0</td>\n",
       "      <td>9.504560e+05</td>\n",
       "      <td>8.102920e+05</td>\n",
       "      <td>867459.0</td>\n",
       "      <td>6766973.0</td>\n",
       "    </tr>\n",
       "    <tr>\n",
       "      <th>2016</th>\n",
       "      <td>1742488.0</td>\n",
       "      <td>581935.0</td>\n",
       "      <td>1.067528e+06</td>\n",
       "      <td>1002882.0</td>\n",
       "      <td>9.779830e+05</td>\n",
       "      <td>8.897600e+05</td>\n",
       "      <td>1061819.0</td>\n",
       "      <td>7324395.0</td>\n",
       "    </tr>\n",
       "    <tr>\n",
       "      <th>2021</th>\n",
       "      <td>1783582.0</td>\n",
       "      <td>610426.0</td>\n",
       "      <td>1.143175e+06</td>\n",
       "      <td>999226.0</td>\n",
       "      <td>1.017905e+06</td>\n",
       "      <td>9.767513e+05</td>\n",
       "      <td>1194863.0</td>\n",
       "      <td>7749195.0</td>\n",
       "    </tr>\n",
       "    <tr>\n",
       "      <th>2026</th>\n",
       "      <td>1827888.0</td>\n",
       "      <td>643009.5</td>\n",
       "      <td>1.231416e+06</td>\n",
       "      <td>1013020.0</td>\n",
       "      <td>1.054728e+06</td>\n",
       "      <td>1.061862e+06</td>\n",
       "      <td>1343236.0</td>\n",
       "      <td>8207150.5</td>\n",
       "    </tr>\n",
       "    <tr>\n",
       "      <th>2031</th>\n",
       "      <td>1872194.0</td>\n",
       "      <td>675593.0</td>\n",
       "      <td>1.319656e+06</td>\n",
       "      <td>1026814.0</td>\n",
       "      <td>1.091551e+06</td>\n",
       "      <td>1.146972e+06</td>\n",
       "      <td>1491609.0</td>\n",
       "      <td>8665106.0</td>\n",
       "    </tr>\n",
       "  </tbody>\n",
       "</table>\n",
       "</div>"
      ],
      "text/plain": [
       "      below 18 years_ransac_model  18 to 25_ransac_model  \\\n",
       "2006                    1653876.0               516768.0   \n",
       "2011                    1688546.0               537074.0   \n",
       "2016                    1742488.0               581935.0   \n",
       "2021                    1783582.0               610426.0   \n",
       "2026                    1827888.0               643009.5   \n",
       "2031                    1872194.0               675593.0   \n",
       "\n",
       "      25 to 34_ransac_model  35 to 44_ransac_model  45 to 54_ransac_model  \\\n",
       "2006           8.910470e+05               957844.0           9.043370e+05   \n",
       "2011           9.415080e+05               971638.0           9.504560e+05   \n",
       "2016           1.067528e+06              1002882.0           9.779830e+05   \n",
       "2021           1.143175e+06               999226.0           1.017905e+06   \n",
       "2026           1.231416e+06              1013020.0           1.054728e+06   \n",
       "2031           1.319656e+06              1026814.0           1.091551e+06   \n",
       "\n",
       "      55 to 64_ransac_model  65 above_ransac_model  \\\n",
       "2006           7.195390e+05               765073.0   \n",
       "2011           8.102920e+05               867459.0   \n",
       "2016           8.897600e+05              1061819.0   \n",
       "2021           9.767513e+05              1194863.0   \n",
       "2026           1.061862e+06              1343236.0   \n",
       "2031           1.146972e+06              1491609.0   \n",
       "\n",
       "      total_population_ransac_model  \n",
       "2006                      6408484.0  \n",
       "2011                      6766973.0  \n",
       "2016                      7324395.0  \n",
       "2021                      7749195.0  \n",
       "2026                      8207150.5  \n",
       "2031                      8665106.0  "
      ]
     },
     "execution_count": 24,
     "metadata": {},
     "output_type": "execute_result"
    }
   ],
   "source": [
    "df_with_ransac_results = df_with_ransac_results.add_suffix('_ransac_model')\n",
    "df_with_ransac_results"
   ]
  },
  {
   "cell_type": "markdown",
   "metadata": {
    "ExecuteTime": {
     "end_time": "2020-10-12T06:44:39.506589Z",
     "start_time": "2020-10-12T06:44:39.487608Z"
    }
   },
   "source": [
    "### SGD Regression"
   ]
  },
  {
   "cell_type": "code",
   "execution_count": 25,
   "metadata": {
    "ExecuteTime": {
     "end_time": "2020-10-13T07:19:18.861362Z",
     "start_time": "2020-10-13T07:19:18.038213Z"
    }
   },
   "outputs": [
    {
     "name": "stderr",
     "output_type": "stream",
     "text": [
      "C:\\Users\\Arjun Janamatti\\Anaconda3\\envs\\tf_nptel\\lib\\site-packages\\sklearn\\utils\\validation.py:73: DataConversionWarning: A column-vector y was passed when a 1d array was expected. Please change the shape of y to (n_samples, ), for example using ravel().\n",
      "  return f(**kwargs)\n",
      "C:\\Users\\Arjun Janamatti\\Anaconda3\\envs\\tf_nptel\\lib\\site-packages\\sklearn\\linear_model\\_stochastic_gradient.py:1211: ConvergenceWarning: Maximum number of iteration reached before convergence. Consider increasing max_iter to improve the fit.\n",
      "  ConvergenceWarning)\n"
     ]
    },
    {
     "data": {
      "image/png": "[encoded data removed]",
      "text/plain": [
       "<Figure size 432x288 with 1 Axes>"
      ]
     },
     "metadata": {
      "needs_background": "light"
     },
     "output_type": "display_data"
    },
    {
     "name": "stderr",
     "output_type": "stream",
     "text": [
      "C:\\Users\\Arjun Janamatti\\Anaconda3\\envs\\tf_nptel\\lib\\site-packages\\sklearn\\utils\\validation.py:73: DataConversionWarning: A column-vector y was passed when a 1d array was expected. Please change the shape of y to (n_samples, ), for example using ravel().\n",
      "  return f(**kwargs)\n",
      "C:\\Users\\Arjun Janamatti\\Anaconda3\\envs\\tf_nptel\\lib\\site-packages\\sklearn\\linear_model\\_stochastic_gradient.py:1211: ConvergenceWarning: Maximum number of iteration reached before convergence. Consider increasing max_iter to improve the fit.\n",
      "  ConvergenceWarning)\n"
     ]
    },
    {
     "data": {
      "image/png": "[encoded data removed]",
      "text/plain": [
       "<Figure size 432x288 with 1 Axes>"
      ]
     },
     "metadata": {
      "needs_background": "light"
     },
     "output_type": "display_data"
    },
    {
     "name": "stderr",
     "output_type": "stream",
     "text": [
      "C:\\Users\\Arjun Janamatti\\Anaconda3\\envs\\tf_nptel\\lib\\site-packages\\sklearn\\utils\\validation.py:73: DataConversionWarning: A column-vector y was passed when a 1d array was expected. Please change the shape of y to (n_samples, ), for example using ravel().\n",
      "  return f(**kwargs)\n",
      "C:\\Users\\Arjun Janamatti\\Anaconda3\\envs\\tf_nptel\\lib\\site-packages\\sklearn\\linear_model\\_stochastic_gradient.py:1211: ConvergenceWarning: Maximum number of iteration reached before convergence. Consider increasing max_iter to improve the fit.\n",
      "  ConvergenceWarning)\n"
     ]
    },
    {
     "data": {
      "image/png": "[encoded data removed]",
      "text/plain": [
       "<Figure size 432x288 with 1 Axes>"
      ]
     },
     "metadata": {
      "needs_background": "light"
     },
     "output_type": "display_data"
    },
    {
     "name": "stderr",
     "output_type": "stream",
     "text": [
      "C:\\Users\\Arjun Janamatti\\Anaconda3\\envs\\tf_nptel\\lib\\site-packages\\sklearn\\utils\\validation.py:73: DataConversionWarning: A column-vector y was passed when a 1d array was expected. Please change the shape of y to (n_samples, ), for example using ravel().\n",
      "  return f(**kwargs)\n",
      "C:\\Users\\Arjun Janamatti\\Anaconda3\\envs\\tf_nptel\\lib\\site-packages\\sklearn\\linear_model\\_stochastic_gradient.py:1211: ConvergenceWarning: Maximum number of iteration reached before convergence. Consider increasing max_iter to improve the fit.\n",
      "  ConvergenceWarning)\n"
     ]
    },
    {
     "data": {
      "image/png": "[encoded data removed]",
      "text/plain": [
       "<Figure size 432x288 with 1 Axes>"
      ]
     },
     "metadata": {
      "needs_background": "light"
     },
     "output_type": "display_data"
    },
    {
     "name": "stderr",
     "output_type": "stream",
     "text": [
      "C:\\Users\\Arjun Janamatti\\Anaconda3\\envs\\tf_nptel\\lib\\site-packages\\sklearn\\utils\\validation.py:73: DataConversionWarning: A column-vector y was passed when a 1d array was expected. Please change the shape of y to (n_samples, ), for example using ravel().\n",
      "  return f(**kwargs)\n",
      "C:\\Users\\Arjun Janamatti\\Anaconda3\\envs\\tf_nptel\\lib\\site-packages\\sklearn\\linear_model\\_stochastic_gradient.py:1211: ConvergenceWarning: Maximum number of iteration reached before convergence. Consider increasing max_iter to improve the fit.\n",
      "  ConvergenceWarning)\n"
     ]
    },
    {
     "data": {
      "image/png": "[encoded data removed]",
      "text/plain": [
       "<Figure size 432x288 with 1 Axes>"
      ]
     },
     "metadata": {
      "needs_background": "light"
     },
     "output_type": "display_data"
    },
    {
     "name": "stderr",
     "output_type": "stream",
     "text": [
      "C:\\Users\\Arjun Janamatti\\Anaconda3\\envs\\tf_nptel\\lib\\site-packages\\sklearn\\utils\\validation.py:73: DataConversionWarning: A column-vector y was passed when a 1d array was expected. Please change the shape of y to (n_samples, ), for example using ravel().\n",
      "  return f(**kwargs)\n",
      "C:\\Users\\Arjun Janamatti\\Anaconda3\\envs\\tf_nptel\\lib\\site-packages\\sklearn\\linear_model\\_stochastic_gradient.py:1211: ConvergenceWarning: Maximum number of iteration reached before convergence. Consider increasing max_iter to improve the fit.\n",
      "  ConvergenceWarning)\n"
     ]
    },
    {
     "data": {
      "image/png": "[encoded data removed]",
      "text/plain": [
       "<Figure size 432x288 with 1 Axes>"
      ]
     },
     "metadata": {
      "needs_background": "light"
     },
     "output_type": "display_data"
    },
    {
     "name": "stderr",
     "output_type": "stream",
     "text": [
      "C:\\Users\\Arjun Janamatti\\Anaconda3\\envs\\tf_nptel\\lib\\site-packages\\sklearn\\utils\\validation.py:73: DataConversionWarning: A column-vector y was passed when a 1d array was expected. Please change the shape of y to (n_samples, ), for example using ravel().\n",
      "  return f(**kwargs)\n",
      "C:\\Users\\Arjun Janamatti\\Anaconda3\\envs\\tf_nptel\\lib\\site-packages\\sklearn\\linear_model\\_stochastic_gradient.py:1211: ConvergenceWarning: Maximum number of iteration reached before convergence. Consider increasing max_iter to improve the fit.\n",
      "  ConvergenceWarning)\n"
     ]
    },
    {
     "data": {
      "image/png": "[encoded data removed]",
      "text/plain": [
       "<Figure size 432x288 with 1 Axes>"
      ]
     },
     "metadata": {
      "needs_background": "light"
     },
     "output_type": "display_data"
    },
    {
     "name": "stderr",
     "output_type": "stream",
     "text": [
      "C:\\Users\\Arjun Janamatti\\Anaconda3\\envs\\tf_nptel\\lib\\site-packages\\sklearn\\utils\\validation.py:73: DataConversionWarning: A column-vector y was passed when a 1d array was expected. Please change the shape of y to (n_samples, ), for example using ravel().\n",
      "  return f(**kwargs)\n",
      "C:\\Users\\Arjun Janamatti\\Anaconda3\\envs\\tf_nptel\\lib\\site-packages\\sklearn\\linear_model\\_stochastic_gradient.py:1211: ConvergenceWarning: Maximum number of iteration reached before convergence. Consider increasing max_iter to improve the fit.\n",
      "  ConvergenceWarning)\n"
     ]
    },
    {
     "data": {
      "image/png": "[encoded data removed]",
      "text/plain": [
       "<Figure size 432x288 with 1 Axes>"
      ]
     },
     "metadata": {
      "needs_background": "light"
     },
     "output_type": "display_data"
    }
   ],
   "source": [
    "age_df_transposed, cols = reset_df(age_df = age_df)\n",
    "sgd_model = SGDRegressor()\n",
    "sgd_prediction_df = create_dataframe(sgd_model, age_df_transposed, cols)\n",
    "age_df_transposed.index = age_df_transposed.Dates\n",
    "df_with_sgd_results = pd.concat([age_df_transposed.drop(labels = 'Dates', axis = 1), sgd_prediction_df])"
   ]
  },
  {
   "cell_type": "code",
   "execution_count": 26,
   "metadata": {
    "ExecuteTime": {
     "end_time": "2020-10-13T07:19:18.892471Z",
     "start_time": "2020-10-13T07:19:18.864156Z"
    }
   },
   "outputs": [
    {
     "data": {
      "text/html": [
       "<div>\n",
       "<style scoped>\n",
       "    .dataframe tbody tr th:only-of-type {\n",
       "        vertical-align: middle;\n",
       "    }\n",
       "\n",
       "    .dataframe tbody tr th {\n",
       "        vertical-align: top;\n",
       "    }\n",
       "\n",
       "    .dataframe thead th {\n",
       "        text-align: right;\n",
       "    }\n",
       "</style>\n",
       "<table border=\"1\" class=\"dataframe\">\n",
       "  <thead>\n",
       "    <tr style=\"text-align: right;\">\n",
       "      <th></th>\n",
       "      <th>below 18 years_SGD_model</th>\n",
       "      <th>18 to 25_SGD_model</th>\n",
       "      <th>25 to 34_SGD_model</th>\n",
       "      <th>35 to 44_SGD_model</th>\n",
       "      <th>45 to 54_SGD_model</th>\n",
       "      <th>55 to 64_SGD_model</th>\n",
       "      <th>65 above_SGD_model</th>\n",
       "      <th>total_population_SGD_model</th>\n",
       "    </tr>\n",
       "  </thead>\n",
       "  <tbody>\n",
       "    <tr>\n",
       "      <th>2006</th>\n",
       "      <td>1.653876e+06</td>\n",
       "      <td>5.167680e+05</td>\n",
       "      <td>8.910470e+05</td>\n",
       "      <td>9.578440e+05</td>\n",
       "      <td>9.043370e+05</td>\n",
       "      <td>7.195390e+05</td>\n",
       "      <td>7.650730e+05</td>\n",
       "      <td>6.408484e+06</td>\n",
       "    </tr>\n",
       "    <tr>\n",
       "      <th>2011</th>\n",
       "      <td>1.688546e+06</td>\n",
       "      <td>5.370740e+05</td>\n",
       "      <td>9.415080e+05</td>\n",
       "      <td>9.716380e+05</td>\n",
       "      <td>9.504560e+05</td>\n",
       "      <td>8.102920e+05</td>\n",
       "      <td>8.674590e+05</td>\n",
       "      <td>6.766973e+06</td>\n",
       "    </tr>\n",
       "    <tr>\n",
       "      <th>2016</th>\n",
       "      <td>1.742488e+06</td>\n",
       "      <td>5.819350e+05</td>\n",
       "      <td>1.067528e+06</td>\n",
       "      <td>1.002882e+06</td>\n",
       "      <td>9.779830e+05</td>\n",
       "      <td>8.897600e+05</td>\n",
       "      <td>1.061819e+06</td>\n",
       "      <td>7.324395e+06</td>\n",
       "    </tr>\n",
       "    <tr>\n",
       "      <th>2021</th>\n",
       "      <td>2.305388e+06</td>\n",
       "      <td>7.635797e+05</td>\n",
       "      <td>1.390257e+06</td>\n",
       "      <td>1.328477e+06</td>\n",
       "      <td>1.298770e+06</td>\n",
       "      <td>1.175497e+06</td>\n",
       "      <td>1.372789e+06</td>\n",
       "      <td>9.633452e+06</td>\n",
       "    </tr>\n",
       "    <tr>\n",
       "      <th>2026</th>\n",
       "      <td>2.652996e+06</td>\n",
       "      <td>8.851758e+05</td>\n",
       "      <td>1.622083e+06</td>\n",
       "      <td>1.528390e+06</td>\n",
       "      <td>1.498862e+06</td>\n",
       "      <td>1.375830e+06</td>\n",
       "      <td>1.624294e+06</td>\n",
       "      <td>1.118556e+07</td>\n",
       "    </tr>\n",
       "    <tr>\n",
       "      <th>2031</th>\n",
       "      <td>3.000605e+06</td>\n",
       "      <td>1.006772e+06</td>\n",
       "      <td>1.853910e+06</td>\n",
       "      <td>1.728303e+06</td>\n",
       "      <td>1.698954e+06</td>\n",
       "      <td>1.576162e+06</td>\n",
       "      <td>1.875800e+06</td>\n",
       "      <td>1.273767e+07</td>\n",
       "    </tr>\n",
       "  </tbody>\n",
       "</table>\n",
       "</div>"
      ],
      "text/plain": [
       "      below 18 years_SGD_model  18 to 25_SGD_model  25 to 34_SGD_model  \\\n",
       "2006              1.653876e+06        5.167680e+05        8.910470e+05   \n",
       "2011              1.688546e+06        5.370740e+05        9.415080e+05   \n",
       "2016              1.742488e+06        5.819350e+05        1.067528e+06   \n",
       "2021              2.305388e+06        7.635797e+05        1.390257e+06   \n",
       "2026              2.652996e+06        8.851758e+05        1.622083e+06   \n",
       "2031              3.000605e+06        1.006772e+06        1.853910e+06   \n",
       "\n",
       "      35 to 44_SGD_model  45 to 54_SGD_model  55 to 64_SGD_model  \\\n",
       "2006        9.578440e+05        9.043370e+05        7.195390e+05   \n",
       "2011        9.716380e+05        9.504560e+05        8.102920e+05   \n",
       "2016        1.002882e+06        9.779830e+05        8.897600e+05   \n",
       "2021        1.328477e+06        1.298770e+06        1.175497e+06   \n",
       "2026        1.528390e+06        1.498862e+06        1.375830e+06   \n",
       "2031        1.728303e+06        1.698954e+06        1.576162e+06   \n",
       "\n",
       "      65 above_SGD_model  total_population_SGD_model  \n",
       "2006        7.650730e+05                6.408484e+06  \n",
       "2011        8.674590e+05                6.766973e+06  \n",
       "2016        1.061819e+06                7.324395e+06  \n",
       "2021        1.372789e+06                9.633452e+06  \n",
       "2026        1.624294e+06                1.118556e+07  \n",
       "2031        1.875800e+06                1.273767e+07  "
      ]
     },
     "execution_count": 26,
     "metadata": {},
     "output_type": "execute_result"
    }
   ],
   "source": [
    "df_with_sgd_results = df_with_sgd_results.add_suffix('_SGD_model')\n",
    "df_with_sgd_results"
   ]
  },
  {
   "cell_type": "markdown",
   "metadata": {},
   "source": [
    "### Poission Regression"
   ]
  },
  {
   "cell_type": "code",
   "execution_count": 27,
   "metadata": {
    "ExecuteTime": {
     "end_time": "2020-10-13T07:19:19.960799Z",
     "start_time": "2020-10-13T07:19:18.895161Z"
    }
   },
   "outputs": [
    {
     "name": "stderr",
     "output_type": "stream",
     "text": [
      "C:\\Users\\Arjun Janamatti\\Anaconda3\\envs\\tf_nptel\\lib\\site-packages\\sklearn\\utils\\validation.py:73: DataConversionWarning: A column-vector y was passed when a 1d array was expected. Please change the shape of y to (n_samples, ), for example using ravel().\n",
      "  return f(**kwargs)\n"
     ]
    },
    {
     "data": {
      "image/png": "[encoded data removed]",
      "text/plain": [
       "<Figure size 432x288 with 1 Axes>"
      ]
     },
     "metadata": {
      "needs_background": "light"
     },
     "output_type": "display_data"
    },
    {
     "name": "stderr",
     "output_type": "stream",
     "text": [
      "C:\\Users\\Arjun Janamatti\\Anaconda3\\envs\\tf_nptel\\lib\\site-packages\\sklearn\\utils\\validation.py:73: DataConversionWarning: A column-vector y was passed when a 1d array was expected. Please change the shape of y to (n_samples, ), for example using ravel().\n",
      "  return f(**kwargs)\n"
     ]
    },
    {
     "data": {
      "image/png": "[encoded data removed]",
      "text/plain": [
       "<Figure size 432x288 with 1 Axes>"
      ]
     },
     "metadata": {
      "needs_background": "light"
     },
     "output_type": "display_data"
    },
    {
     "name": "stderr",
     "output_type": "stream",
     "text": [
      "C:\\Users\\Arjun Janamatti\\Anaconda3\\envs\\tf_nptel\\lib\\site-packages\\sklearn\\utils\\validation.py:73: DataConversionWarning: A column-vector y was passed when a 1d array was expected. Please change the shape of y to (n_samples, ), for example using ravel().\n",
      "  return f(**kwargs)\n"
     ]
    },
    {
     "data": {
      "image/png": "[encoded data removed]",
      "text/plain": [
       "<Figure size 432x288 with 1 Axes>"
      ]
     },
     "metadata": {
      "needs_background": "light"
     },
     "output_type": "display_data"
    },
    {
     "name": "stderr",
     "output_type": "stream",
     "text": [
      "C:\\Users\\Arjun Janamatti\\Anaconda3\\envs\\tf_nptel\\lib\\site-packages\\sklearn\\utils\\validation.py:73: DataConversionWarning: A column-vector y was passed when a 1d array was expected. Please change the shape of y to (n_samples, ), for example using ravel().\n",
      "  return f(**kwargs)\n"
     ]
    },
    {
     "data": {
      "image/png": "[encoded data removed]",
      "text/plain": [
       "<Figure size 432x288 with 1 Axes>"
      ]
     },
     "metadata": {
      "needs_background": "light"
     },
     "output_type": "display_data"
    },
    {
     "name": "stderr",
     "output_type": "stream",
     "text": [
      "C:\\Users\\Arjun Janamatti\\Anaconda3\\envs\\tf_nptel\\lib\\site-packages\\sklearn\\utils\\validation.py:73: DataConversionWarning: A column-vector y was passed when a 1d array was expected. Please change the shape of y to (n_samples, ), for example using ravel().\n",
      "  return f(**kwargs)\n"
     ]
    },
    {
     "data": {
      "image/png": "[encoded data removed]",
      "text/plain": [
       "<Figure size 432x288 with 1 Axes>"
      ]
     },
     "metadata": {
      "needs_background": "light"
     },
     "output_type": "display_data"
    },
    {
     "name": "stderr",
     "output_type": "stream",
     "text": [
      "C:\\Users\\Arjun Janamatti\\Anaconda3\\envs\\tf_nptel\\lib\\site-packages\\sklearn\\utils\\validation.py:73: DataConversionWarning: A column-vector y was passed when a 1d array was expected. Please change the shape of y to (n_samples, ), for example using ravel().\n",
      "  return f(**kwargs)\n"
     ]
    },
    {
     "data": {
      "image/png": "[encoded data removed]",
      "text/plain": [
       "<Figure size 432x288 with 1 Axes>"
      ]
     },
     "metadata": {
      "needs_background": "light"
     },
     "output_type": "display_data"
    },
    {
     "name": "stderr",
     "output_type": "stream",
     "text": [
      "C:\\Users\\Arjun Janamatti\\Anaconda3\\envs\\tf_nptel\\lib\\site-packages\\sklearn\\utils\\validation.py:73: DataConversionWarning: A column-vector y was passed when a 1d array was expected. Please change the shape of y to (n_samples, ), for example using ravel().\n",
      "  return f(**kwargs)\n"
     ]
    },
    {
     "data": {
      "image/png": "[encoded data removed]",
      "text/plain": [
       "<Figure size 432x288 with 1 Axes>"
      ]
     },
     "metadata": {
      "needs_background": "light"
     },
     "output_type": "display_data"
    },
    {
     "name": "stderr",
     "output_type": "stream",
     "text": [
      "C:\\Users\\Arjun Janamatti\\Anaconda3\\envs\\tf_nptel\\lib\\site-packages\\sklearn\\utils\\validation.py:73: DataConversionWarning: A column-vector y was passed when a 1d array was expected. Please change the shape of y to (n_samples, ), for example using ravel().\n",
      "  return f(**kwargs)\n"
     ]
    },
    {
     "data": {
      "image/png": "[encoded data removed]",
      "text/plain": [
       "<Figure size 432x288 with 1 Axes>"
      ]
     },
     "metadata": {
      "needs_background": "light"
     },
     "output_type": "display_data"
    }
   ],
   "source": [
    "age_df_transposed, cols = reset_df(age_df = age_df)\n",
    "poisson_model = PoissonRegressor()\n",
    "poisson_prediction_df = create_dataframe(poisson_model, age_df_transposed, cols)\n",
    "age_df_transposed.index = age_df_transposed.Dates\n",
    "df_with_poisson_results = pd.concat([age_df_transposed.drop(labels = 'Dates', axis = 1), poisson_prediction_df])\n"
   ]
  },
  {
   "cell_type": "code",
   "execution_count": 28,
   "metadata": {
    "ExecuteTime": {
     "end_time": "2020-10-13T07:19:19.991599Z",
     "start_time": "2020-10-13T07:19:19.963865Z"
    }
   },
   "outputs": [
    {
     "data": {
      "text/html": [
       "<div>\n",
       "<style scoped>\n",
       "    .dataframe tbody tr th:only-of-type {\n",
       "        vertical-align: middle;\n",
       "    }\n",
       "\n",
       "    .dataframe tbody tr th {\n",
       "        vertical-align: top;\n",
       "    }\n",
       "\n",
       "    .dataframe thead th {\n",
       "        text-align: right;\n",
       "    }\n",
       "</style>\n",
       "<table border=\"1\" class=\"dataframe\">\n",
       "  <thead>\n",
       "    <tr style=\"text-align: right;\">\n",
       "      <th></th>\n",
       "      <th>below 18 years_poission_prediction</th>\n",
       "      <th>18 to 25_poission_prediction</th>\n",
       "      <th>25 to 34_poission_prediction</th>\n",
       "      <th>35 to 44_poission_prediction</th>\n",
       "      <th>45 to 54_poission_prediction</th>\n",
       "      <th>55 to 64_poission_prediction</th>\n",
       "      <th>65 above_poission_prediction</th>\n",
       "      <th>total_population_poission_prediction</th>\n",
       "    </tr>\n",
       "  </thead>\n",
       "  <tbody>\n",
       "    <tr>\n",
       "      <th>2006</th>\n",
       "      <td>1.653876e+06</td>\n",
       "      <td>516768.000000</td>\n",
       "      <td>8.910470e+05</td>\n",
       "      <td>9.578440e+05</td>\n",
       "      <td>9.043370e+05</td>\n",
       "      <td>7.195390e+05</td>\n",
       "      <td>7.650730e+05</td>\n",
       "      <td>6.408484e+06</td>\n",
       "    </tr>\n",
       "    <tr>\n",
       "      <th>2011</th>\n",
       "      <td>1.688546e+06</td>\n",
       "      <td>537074.000000</td>\n",
       "      <td>9.415080e+05</td>\n",
       "      <td>9.716380e+05</td>\n",
       "      <td>9.504560e+05</td>\n",
       "      <td>8.102920e+05</td>\n",
       "      <td>8.674590e+05</td>\n",
       "      <td>6.766973e+06</td>\n",
       "    </tr>\n",
       "    <tr>\n",
       "      <th>2016</th>\n",
       "      <td>1.742488e+06</td>\n",
       "      <td>581935.000000</td>\n",
       "      <td>1.067528e+06</td>\n",
       "      <td>1.002882e+06</td>\n",
       "      <td>9.779830e+05</td>\n",
       "      <td>8.897600e+05</td>\n",
       "      <td>1.061819e+06</td>\n",
       "      <td>7.324395e+06</td>\n",
       "    </tr>\n",
       "    <tr>\n",
       "      <th>2021</th>\n",
       "      <td>1.785543e+06</td>\n",
       "      <td>613791.979180</td>\n",
       "      <td>1.157380e+06</td>\n",
       "      <td>1.023369e+06</td>\n",
       "      <td>1.020355e+06</td>\n",
       "      <td>9.927364e+05</td>\n",
       "      <td>1.240244e+06</td>\n",
       "      <td>7.802496e+06</td>\n",
       "    </tr>\n",
       "    <tr>\n",
       "      <th>2026</th>\n",
       "      <td>1.832837e+06</td>\n",
       "      <td>651612.038327</td>\n",
       "      <td>1.268159e+06</td>\n",
       "      <td>1.047222e+06</td>\n",
       "      <td>1.060942e+06</td>\n",
       "      <td>1.103440e+06</td>\n",
       "      <td>1.464143e+06</td>\n",
       "      <td>8.343746e+06</td>\n",
       "    </tr>\n",
       "    <tr>\n",
       "      <th>2031</th>\n",
       "      <td>1.881384e+06</td>\n",
       "      <td>691762.458446</td>\n",
       "      <td>1.389542e+06</td>\n",
       "      <td>1.071631e+06</td>\n",
       "      <td>1.103144e+06</td>\n",
       "      <td>1.226489e+06</td>\n",
       "      <td>1.728461e+06</td>\n",
       "      <td>8.922542e+06</td>\n",
       "    </tr>\n",
       "  </tbody>\n",
       "</table>\n",
       "</div>"
      ],
      "text/plain": [
       "      below 18 years_poission_prediction  18 to 25_poission_prediction  \\\n",
       "2006                        1.653876e+06                 516768.000000   \n",
       "2011                        1.688546e+06                 537074.000000   \n",
       "2016                        1.742488e+06                 581935.000000   \n",
       "2021                        1.785543e+06                 613791.979180   \n",
       "2026                        1.832837e+06                 651612.038327   \n",
       "2031                        1.881384e+06                 691762.458446   \n",
       "\n",
       "      25 to 34_poission_prediction  35 to 44_poission_prediction  \\\n",
       "2006                  8.910470e+05                  9.578440e+05   \n",
       "2011                  9.415080e+05                  9.716380e+05   \n",
       "2016                  1.067528e+06                  1.002882e+06   \n",
       "2021                  1.157380e+06                  1.023369e+06   \n",
       "2026                  1.268159e+06                  1.047222e+06   \n",
       "2031                  1.389542e+06                  1.071631e+06   \n",
       "\n",
       "      45 to 54_poission_prediction  55 to 64_poission_prediction  \\\n",
       "2006                  9.043370e+05                  7.195390e+05   \n",
       "2011                  9.504560e+05                  8.102920e+05   \n",
       "2016                  9.779830e+05                  8.897600e+05   \n",
       "2021                  1.020355e+06                  9.927364e+05   \n",
       "2026                  1.060942e+06                  1.103440e+06   \n",
       "2031                  1.103144e+06                  1.226489e+06   \n",
       "\n",
       "      65 above_poission_prediction  total_population_poission_prediction  \n",
       "2006                  7.650730e+05                          6.408484e+06  \n",
       "2011                  8.674590e+05                          6.766973e+06  \n",
       "2016                  1.061819e+06                          7.324395e+06  \n",
       "2021                  1.240244e+06                          7.802496e+06  \n",
       "2026                  1.464143e+06                          8.343746e+06  \n",
       "2031                  1.728461e+06                          8.922542e+06  "
      ]
     },
     "execution_count": 28,
     "metadata": {},
     "output_type": "execute_result"
    }
   ],
   "source": [
    "df_with_poisson_results = df_with_poisson_results.add_suffix('_poission_prediction')\n",
    "df_with_poisson_results"
   ]
  },
  {
   "cell_type": "code",
   "execution_count": 29,
   "metadata": {
    "ExecuteTime": {
     "end_time": "2020-10-13T07:19:20.007027Z",
     "start_time": "2020-10-13T07:19:19.993811Z"
    }
   },
   "outputs": [],
   "source": [
    "def plot_comparison_results(column_number, df_with_linear_results, df_with_huber_results, df_with_sgd_results, df_with_ransac_results, df_with_poisson_results):\n",
    "    a = pd.concat([df_with_linear_results.iloc[:,column_number],\n",
    "                   df_with_huber_results.iloc[:, column_number],\n",
    "                   df_with_sgd_results.iloc[:,column_number],\n",
    "                   df_with_ransac_results.iloc[:,column_number],\n",
    "                   df_with_poisson_results.iloc[:,column_number]],\n",
    "                  axis = 1)\n",
    "    a.iloc[3:,:].plot(kind = 'bar', figsize = (7,7))"
   ]
  },
  {
   "cell_type": "code",
   "execution_count": 30,
   "metadata": {
    "ExecuteTime": {
     "end_time": "2020-10-13T07:19:20.194465Z",
     "start_time": "2020-10-13T07:19:20.008587Z"
    }
   },
   "outputs": [
    {
     "data": {
      "image/png": "[encoded data removed]",
      "text/plain": [
       "<Figure size 504x504 with 1 Axes>"
      ]
     },
     "metadata": {
      "needs_background": "light"
     },
     "output_type": "display_data"
    }
   ],
   "source": [
    "plot_comparison_results(0,df_with_linear_results, df_with_huber_results, df_with_sgd_results, df_with_ransac_results, df_with_poisson_results)"
   ]
  },
  {
   "cell_type": "markdown",
   "metadata": {},
   "source": [
    "# Prediction based on AGE"
   ]
  },
  {
   "cell_type": "markdown",
   "metadata": {
    "ExecuteTime": {
     "end_time": "2020-10-12T09:28:18.061707Z",
     "start_time": "2020-10-12T09:28:18.042563Z"
    }
   },
   "source": [
    "### Pre-processing steps"
   ]
  },
  {
   "cell_type": "code",
   "execution_count": 31,
   "metadata": {
    "ExecuteTime": {
     "end_time": "2020-10-13T07:19:20.241208Z",
     "start_time": "2020-10-13T07:19:20.196233Z"
    }
   },
   "outputs": [
    {
     "data": {
      "text/html": [
       "<div>\n",
       "<style scoped>\n",
       "    .dataframe tbody tr th:only-of-type {\n",
       "        vertical-align: middle;\n",
       "    }\n",
       "\n",
       "    .dataframe tbody tr th {\n",
       "        vertical-align: top;\n",
       "    }\n",
       "\n",
       "    .dataframe thead th {\n",
       "        text-align: right;\n",
       "    }\n",
       "</style>\n",
       "<table border=\"1\" class=\"dataframe\">\n",
       "  <thead>\n",
       "    <tr style=\"text-align: right;\">\n",
       "      <th></th>\n",
       "      <th>Male_Population</th>\n",
       "      <th>Female_Population</th>\n",
       "      <th>year</th>\n",
       "    </tr>\n",
       "  </thead>\n",
       "  <tbody>\n",
       "    <tr>\n",
       "      <th>1</th>\n",
       "      <td>3228451</td>\n",
       "      <td>3320726</td>\n",
       "      <td>06</td>\n",
       "    </tr>\n",
       "    <tr>\n",
       "      <th>2</th>\n",
       "      <td>3408880</td>\n",
       "      <td>3508782</td>\n",
       "      <td>11</td>\n",
       "    </tr>\n",
       "    <tr>\n",
       "      <th>3</th>\n",
       "      <td>3686014</td>\n",
       "      <td>3794217</td>\n",
       "      <td>16</td>\n",
       "    </tr>\n",
       "  </tbody>\n",
       "</table>\n",
       "</div>"
      ],
      "text/plain": [
       "   Male_Population  Female_Population year\n",
       "1          3228451            3320726   06\n",
       "2          3408880            3508782   11\n",
       "3          3686014            3794217   16"
      ]
     },
     "execution_count": 31,
     "metadata": {},
     "output_type": "execute_result"
    }
   ],
   "source": [
    "# since total population of male and female is required for year 06, 11, 16, we will only take the last file\n",
    "age_file_df_5 = pd.read_csv(filepath_or_buffer = os.path.join(direcotry_path, file_path_5))\n",
    "column_names = list(age_file_df_5.columns)\n",
    "required_column_names = [names for names in column_names\n",
    "                         if ('Tot' in names) & ('P' not in names)]\n",
    "age_file_df_5_transpose = age_file_df_5[required_column_names].T\n",
    "\n",
    "# extract the year from the index values\n",
    "df_index = list(age_file_df_5_transpose.index)\n",
    "age_file_df_5_transpose['year'] = [words[-4:-2] for words in df_index]\n",
    "\n",
    "# selection of columns with either male or female, combination of both are not selected\n",
    "male_series = [male for male in age_file_df_5_transpose.index\n",
    "               if 'M' in male]\n",
    "female_series = [male for male in age_file_df_5_transpose.index\n",
    "                 if 'F' in male]\n",
    "male_series_df = age_file_df_5_transpose.loc[male_series,:]\n",
    "female_series_df = age_file_df_5_transpose.loc[female_series,:]\n",
    "\n",
    "# after selecting male or female, changing the column name to male population and female population\n",
    "male_series_df = male_series_df.rename(columns = {0: 'Male_Population',\n",
    "                                                  'year': 'Year'})\n",
    "female_series_df = female_series_df.rename(columns ={0: 'Female_Population'})\n",
    "\n",
    "# changing the index for regression models\n",
    "male_series_df.index = [1,2,3]\n",
    "female_series_df.index = [1,2,3]\n",
    "\n",
    "# combining the male and female dataframes to get a single dataframe\n",
    "combined_gender_df = pd.concat([male_series_df, female_series_df], axis = 1)\n",
    "combined_gender_df.drop(labels = 'Year', axis = 1, inplace = True)\n",
    "combined_gender_df"
   ]
  },
  {
   "cell_type": "code",
   "execution_count": 32,
   "metadata": {
    "ExecuteTime": {
     "end_time": "2020-10-13T07:19:20.256533Z",
     "start_time": "2020-10-13T07:19:20.242708Z"
    }
   },
   "outputs": [],
   "source": [
    "def reset_index_gender_df(dataframe):\n",
    "    dataframe.index = ['1', '2', '3']\n",
    "    cols = list(dataframe.columns)\n",
    "    return dataframe, cols"
   ]
  },
  {
   "cell_type": "markdown",
   "metadata": {
    "ExecuteTime": {
     "end_time": "2020-10-12T09:29:39.503982Z",
     "start_time": "2020-10-12T09:29:39.488571Z"
    }
   },
   "source": [
    "### Regression Models\n",
    "\n",
    "#### Linear Regression"
   ]
  },
  {
   "cell_type": "code",
   "execution_count": 33,
   "metadata": {
    "ExecuteTime": {
     "end_time": "2020-10-13T07:19:20.490342Z",
     "start_time": "2020-10-13T07:19:20.258645Z"
    }
   },
   "outputs": [
    {
     "data": {
      "image/png": "[encoded data removed]",
      "text/plain": [
       "<Figure size 432x288 with 1 Axes>"
      ]
     },
     "metadata": {
      "needs_background": "light"
     },
     "output_type": "display_data"
    },
    {
     "data": {
      "image/png": "[encoded data removed]",
      "text/plain": [
       "<Figure size 432x288 with 1 Axes>"
      ]
     },
     "metadata": {
      "needs_background": "light"
     },
     "output_type": "display_data"
    }
   ],
   "source": [
    "combined_gender_df, cols = reset_index_gender_df(combined_gender_df)\n",
    "model = LinearRegression()\n",
    "linear_prediction_df = create_dataframe(model, combined_gender_df, cols)\n",
    "combined_gender_df.index = ['2006', '2011', '2016']\n",
    "df_with_linear_results_gender = pd.concat([combined_gender_df, linear_prediction_df])\n",
    "df_with_linear_results_gender.drop(labels = 'year', axis = 1, inplace = True)"
   ]
  },
  {
   "cell_type": "code",
   "execution_count": 34,
   "metadata": {
    "ExecuteTime": {
     "end_time": "2020-10-13T07:19:20.505724Z",
     "start_time": "2020-10-13T07:19:20.492339Z"
    }
   },
   "outputs": [
    {
     "data": {
      "text/html": [
       "<div>\n",
       "<style scoped>\n",
       "    .dataframe tbody tr th:only-of-type {\n",
       "        vertical-align: middle;\n",
       "    }\n",
       "\n",
       "    .dataframe tbody tr th {\n",
       "        vertical-align: top;\n",
       "    }\n",
       "\n",
       "    .dataframe thead th {\n",
       "        text-align: right;\n",
       "    }\n",
       "</style>\n",
       "<table border=\"1\" class=\"dataframe\">\n",
       "  <thead>\n",
       "    <tr style=\"text-align: right;\">\n",
       "      <th></th>\n",
       "      <th>Male_Population_linear_model</th>\n",
       "      <th>Female_Population_linear_model</th>\n",
       "    </tr>\n",
       "  </thead>\n",
       "  <tbody>\n",
       "    <tr>\n",
       "      <th>2006</th>\n",
       "      <td>3228451.0</td>\n",
       "      <td>3.320726e+06</td>\n",
       "    </tr>\n",
       "    <tr>\n",
       "      <th>2011</th>\n",
       "      <td>3408880.0</td>\n",
       "      <td>3.508782e+06</td>\n",
       "    </tr>\n",
       "    <tr>\n",
       "      <th>2016</th>\n",
       "      <td>3686014.0</td>\n",
       "      <td>3.794217e+06</td>\n",
       "    </tr>\n",
       "    <tr>\n",
       "      <th>2021</th>\n",
       "      <td>3898678.0</td>\n",
       "      <td>4.014733e+06</td>\n",
       "    </tr>\n",
       "    <tr>\n",
       "      <th>2026</th>\n",
       "      <td>4127459.5</td>\n",
       "      <td>4.251478e+06</td>\n",
       "    </tr>\n",
       "    <tr>\n",
       "      <th>2031</th>\n",
       "      <td>4356241.0</td>\n",
       "      <td>4.488224e+06</td>\n",
       "    </tr>\n",
       "  </tbody>\n",
       "</table>\n",
       "</div>"
      ],
      "text/plain": [
       "      Male_Population_linear_model  Female_Population_linear_model\n",
       "2006                     3228451.0                    3.320726e+06\n",
       "2011                     3408880.0                    3.508782e+06\n",
       "2016                     3686014.0                    3.794217e+06\n",
       "2021                     3898678.0                    4.014733e+06\n",
       "2026                     4127459.5                    4.251478e+06\n",
       "2031                     4356241.0                    4.488224e+06"
      ]
     },
     "execution_count": 34,
     "metadata": {},
     "output_type": "execute_result"
    }
   ],
   "source": [
    "df_with_linear_results_gender = df_with_linear_results_gender.add_suffix('_linear_model')\n",
    "df_with_linear_results_gender"
   ]
  },
  {
   "cell_type": "markdown",
   "metadata": {},
   "source": [
    "#### Huber Regression Model"
   ]
  },
  {
   "cell_type": "code",
   "execution_count": 35,
   "metadata": {
    "ExecuteTime": {
     "end_time": "2020-10-13T07:19:20.754930Z",
     "start_time": "2020-10-13T07:19:20.507851Z"
    }
   },
   "outputs": [
    {
     "name": "stderr",
     "output_type": "stream",
     "text": [
      "C:\\Users\\Arjun Janamatti\\Anaconda3\\envs\\tf_nptel\\lib\\site-packages\\sklearn\\utils\\validation.py:73: DataConversionWarning: A column-vector y was passed when a 1d array was expected. Please change the shape of y to (n_samples, ), for example using ravel().\n",
      "  return f(**kwargs)\n"
     ]
    },
    {
     "data": {
      "image/png": "[encoded data removed]",
      "text/plain": [
       "<Figure size 432x288 with 1 Axes>"
      ]
     },
     "metadata": {
      "needs_background": "light"
     },
     "output_type": "display_data"
    },
    {
     "name": "stderr",
     "output_type": "stream",
     "text": [
      "C:\\Users\\Arjun Janamatti\\Anaconda3\\envs\\tf_nptel\\lib\\site-packages\\sklearn\\utils\\validation.py:73: DataConversionWarning: A column-vector y was passed when a 1d array was expected. Please change the shape of y to (n_samples, ), for example using ravel().\n",
      "  return f(**kwargs)\n"
     ]
    },
    {
     "data": {
      "image/png": "[encoded data removed]",
      "text/plain": [
       "<Figure size 432x288 with 1 Axes>"
      ]
     },
     "metadata": {
      "needs_background": "light"
     },
     "output_type": "display_data"
    }
   ],
   "source": [
    "combined_gender_df, cols = reset_index_gender_df(combined_gender_df)\n",
    "model = HuberRegressor()\n",
    "huber_prediction_df = create_dataframe(model, combined_gender_df, cols)\n",
    "combined_gender_df.index = ['2006', '2011', '2016']\n",
    "df_with_huber_results_gender = pd.concat([combined_gender_df, huber_prediction_df])\n",
    "df_with_huber_results_gender.drop(labels = 'year', axis = 1, inplace = True)"
   ]
  },
  {
   "cell_type": "code",
   "execution_count": 36,
   "metadata": {
    "ExecuteTime": {
     "end_time": "2020-10-13T07:19:20.770572Z",
     "start_time": "2020-10-13T07:19:20.758123Z"
    }
   },
   "outputs": [
    {
     "data": {
      "text/html": [
       "<div>\n",
       "<style scoped>\n",
       "    .dataframe tbody tr th:only-of-type {\n",
       "        vertical-align: middle;\n",
       "    }\n",
       "\n",
       "    .dataframe tbody tr th {\n",
       "        vertical-align: top;\n",
       "    }\n",
       "\n",
       "    .dataframe thead th {\n",
       "        text-align: right;\n",
       "    }\n",
       "</style>\n",
       "<table border=\"1\" class=\"dataframe\">\n",
       "  <thead>\n",
       "    <tr style=\"text-align: right;\">\n",
       "      <th></th>\n",
       "      <th>Male_Population_huber_model</th>\n",
       "      <th>Female_Population_huber_model</th>\n",
       "    </tr>\n",
       "  </thead>\n",
       "  <tbody>\n",
       "    <tr>\n",
       "      <th>2006</th>\n",
       "      <td>3.228451e+06</td>\n",
       "      <td>3.320726e+06</td>\n",
       "    </tr>\n",
       "    <tr>\n",
       "      <th>2011</th>\n",
       "      <td>3.408880e+06</td>\n",
       "      <td>3.508782e+06</td>\n",
       "    </tr>\n",
       "    <tr>\n",
       "      <th>2016</th>\n",
       "      <td>3.686014e+06</td>\n",
       "      <td>3.794217e+06</td>\n",
       "    </tr>\n",
       "    <tr>\n",
       "      <th>2021</th>\n",
       "      <td>3.489655e+06</td>\n",
       "      <td>3.589808e+06</td>\n",
       "    </tr>\n",
       "    <tr>\n",
       "      <th>2026</th>\n",
       "      <td>3.513924e+06</td>\n",
       "      <td>3.614091e+06</td>\n",
       "    </tr>\n",
       "    <tr>\n",
       "      <th>2031</th>\n",
       "      <td>3.538194e+06</td>\n",
       "      <td>3.638375e+06</td>\n",
       "    </tr>\n",
       "  </tbody>\n",
       "</table>\n",
       "</div>"
      ],
      "text/plain": [
       "      Male_Population_huber_model  Female_Population_huber_model\n",
       "2006                 3.228451e+06                   3.320726e+06\n",
       "2011                 3.408880e+06                   3.508782e+06\n",
       "2016                 3.686014e+06                   3.794217e+06\n",
       "2021                 3.489655e+06                   3.589808e+06\n",
       "2026                 3.513924e+06                   3.614091e+06\n",
       "2031                 3.538194e+06                   3.638375e+06"
      ]
     },
     "execution_count": 36,
     "metadata": {},
     "output_type": "execute_result"
    }
   ],
   "source": [
    "df_with_huber_results_gender = df_with_huber_results_gender.add_suffix('_huber_model')\n",
    "df_with_huber_results_gender"
   ]
  },
  {
   "cell_type": "markdown",
   "metadata": {
    "ExecuteTime": {
     "end_time": "2020-10-12T09:31:33.770521Z",
     "start_time": "2020-10-12T09:31:33.756190Z"
    }
   },
   "source": [
    "#### RANSAC Regression Model"
   ]
  },
  {
   "cell_type": "code",
   "execution_count": 37,
   "metadata": {
    "ExecuteTime": {
     "end_time": "2020-10-13T07:19:21.002103Z",
     "start_time": "2020-10-13T07:19:20.772142Z"
    }
   },
   "outputs": [
    {
     "data": {
      "image/png": "[encoded data removed]",
      "text/plain": [
       "<Figure size 432x288 with 1 Axes>"
      ]
     },
     "metadata": {
      "needs_background": "light"
     },
     "output_type": "display_data"
    },
    {
     "data": {
      "image/png": "[encoded data removed]",
      "text/plain": [
       "<Figure size 432x288 with 1 Axes>"
      ]
     },
     "metadata": {
      "needs_background": "light"
     },
     "output_type": "display_data"
    }
   ],
   "source": [
    "combined_gender_df, cols = reset_index_gender_df(combined_gender_df)\n",
    "model = RANSACRegressor()\n",
    "ransac_prediction_df = create_dataframe(model, combined_gender_df, cols)\n",
    "combined_gender_df.index = ['2006', '2011', '2016']\n",
    "df_with_ransac_results_gender = pd.concat([combined_gender_df, ransac_prediction_df])\n",
    "df_with_ransac_results_gender.drop(labels = 'year', axis = 1, inplace = True)"
   ]
  },
  {
   "cell_type": "code",
   "execution_count": 38,
   "metadata": {
    "ExecuteTime": {
     "end_time": "2020-10-13T07:19:21.017685Z",
     "start_time": "2020-10-13T07:19:21.002722Z"
    }
   },
   "outputs": [
    {
     "data": {
      "text/html": [
       "<div>\n",
       "<style scoped>\n",
       "    .dataframe tbody tr th:only-of-type {\n",
       "        vertical-align: middle;\n",
       "    }\n",
       "\n",
       "    .dataframe tbody tr th {\n",
       "        vertical-align: top;\n",
       "    }\n",
       "\n",
       "    .dataframe thead th {\n",
       "        text-align: right;\n",
       "    }\n",
       "</style>\n",
       "<table border=\"1\" class=\"dataframe\">\n",
       "  <thead>\n",
       "    <tr style=\"text-align: right;\">\n",
       "      <th></th>\n",
       "      <th>Male_Population_ransac_model</th>\n",
       "      <th>Female_Population_ransac_model</th>\n",
       "    </tr>\n",
       "  </thead>\n",
       "  <tbody>\n",
       "    <tr>\n",
       "      <th>2006</th>\n",
       "      <td>3228451.0</td>\n",
       "      <td>3.320726e+06</td>\n",
       "    </tr>\n",
       "    <tr>\n",
       "      <th>2011</th>\n",
       "      <td>3408880.0</td>\n",
       "      <td>3.508782e+06</td>\n",
       "    </tr>\n",
       "    <tr>\n",
       "      <th>2016</th>\n",
       "      <td>3686014.0</td>\n",
       "      <td>3.794217e+06</td>\n",
       "    </tr>\n",
       "    <tr>\n",
       "      <th>2021</th>\n",
       "      <td>3898678.0</td>\n",
       "      <td>4.014733e+06</td>\n",
       "    </tr>\n",
       "    <tr>\n",
       "      <th>2026</th>\n",
       "      <td>4127459.5</td>\n",
       "      <td>4.251478e+06</td>\n",
       "    </tr>\n",
       "    <tr>\n",
       "      <th>2031</th>\n",
       "      <td>4356241.0</td>\n",
       "      <td>4.488224e+06</td>\n",
       "    </tr>\n",
       "  </tbody>\n",
       "</table>\n",
       "</div>"
      ],
      "text/plain": [
       "      Male_Population_ransac_model  Female_Population_ransac_model\n",
       "2006                     3228451.0                    3.320726e+06\n",
       "2011                     3408880.0                    3.508782e+06\n",
       "2016                     3686014.0                    3.794217e+06\n",
       "2021                     3898678.0                    4.014733e+06\n",
       "2026                     4127459.5                    4.251478e+06\n",
       "2031                     4356241.0                    4.488224e+06"
      ]
     },
     "execution_count": 38,
     "metadata": {},
     "output_type": "execute_result"
    }
   ],
   "source": [
    "df_with_ransac_results_gender = df_with_ransac_results_gender.add_suffix('_ransac_model')\n",
    "df_with_ransac_results_gender"
   ]
  },
  {
   "cell_type": "markdown",
   "metadata": {
    "ExecuteTime": {
     "end_time": "2020-10-12T09:32:50.281045Z",
     "start_time": "2020-10-12T09:32:50.267256Z"
    }
   },
   "source": [
    "#### SGD Regression Model"
   ]
  },
  {
   "cell_type": "code",
   "execution_count": 39,
   "metadata": {
    "ExecuteTime": {
     "end_time": "2020-10-13T07:19:21.264889Z",
     "start_time": "2020-10-13T07:19:21.020107Z"
    }
   },
   "outputs": [
    {
     "name": "stderr",
     "output_type": "stream",
     "text": [
      "C:\\Users\\Arjun Janamatti\\Anaconda3\\envs\\tf_nptel\\lib\\site-packages\\sklearn\\utils\\validation.py:73: DataConversionWarning: A column-vector y was passed when a 1d array was expected. Please change the shape of y to (n_samples, ), for example using ravel().\n",
      "  return f(**kwargs)\n",
      "C:\\Users\\Arjun Janamatti\\Anaconda3\\envs\\tf_nptel\\lib\\site-packages\\sklearn\\linear_model\\_stochastic_gradient.py:1211: ConvergenceWarning: Maximum number of iteration reached before convergence. Consider increasing max_iter to improve the fit.\n",
      "  ConvergenceWarning)\n"
     ]
    },
    {
     "data": {
      "image/png": "[encoded data removed]",
      "text/plain": [
       "<Figure size 432x288 with 1 Axes>"
      ]
     },
     "metadata": {
      "needs_background": "light"
     },
     "output_type": "display_data"
    },
    {
     "name": "stderr",
     "output_type": "stream",
     "text": [
      "C:\\Users\\Arjun Janamatti\\Anaconda3\\envs\\tf_nptel\\lib\\site-packages\\sklearn\\utils\\validation.py:73: DataConversionWarning: A column-vector y was passed when a 1d array was expected. Please change the shape of y to (n_samples, ), for example using ravel().\n",
      "  return f(**kwargs)\n",
      "C:\\Users\\Arjun Janamatti\\Anaconda3\\envs\\tf_nptel\\lib\\site-packages\\sklearn\\linear_model\\_stochastic_gradient.py:1211: ConvergenceWarning: Maximum number of iteration reached before convergence. Consider increasing max_iter to improve the fit.\n",
      "  ConvergenceWarning)\n"
     ]
    },
    {
     "data": {
      "image/png": "[encoded data removed]",
      "text/plain": [
       "<Figure size 432x288 with 1 Axes>"
      ]
     },
     "metadata": {
      "needs_background": "light"
     },
     "output_type": "display_data"
    }
   ],
   "source": [
    "combined_gender_df, cols = reset_index_gender_df(combined_gender_df)\n",
    "model = SGDRegressor()\n",
    "sgd_prediction_df = create_dataframe(model, combined_gender_df, cols)\n",
    "combined_gender_df.index = ['2006', '2011', '2016']\n",
    "df_with_sgd_results_gender = pd.concat([combined_gender_df, sgd_prediction_df])\n",
    "df_with_sgd_results_gender.drop(labels = 'year', axis = 1, inplace = True)"
   ]
  },
  {
   "cell_type": "code",
   "execution_count": 40,
   "metadata": {
    "ExecuteTime": {
     "end_time": "2020-10-13T07:19:21.295431Z",
     "start_time": "2020-10-13T07:19:21.267523Z"
    }
   },
   "outputs": [
    {
     "data": {
      "text/html": [
       "<div>\n",
       "<style scoped>\n",
       "    .dataframe tbody tr th:only-of-type {\n",
       "        vertical-align: middle;\n",
       "    }\n",
       "\n",
       "    .dataframe tbody tr th {\n",
       "        vertical-align: top;\n",
       "    }\n",
       "\n",
       "    .dataframe thead th {\n",
       "        text-align: right;\n",
       "    }\n",
       "</style>\n",
       "<table border=\"1\" class=\"dataframe\">\n",
       "  <thead>\n",
       "    <tr style=\"text-align: right;\">\n",
       "      <th></th>\n",
       "      <th>Male_Population_sgd_model</th>\n",
       "      <th>Female_Population_sgd_model</th>\n",
       "    </tr>\n",
       "  </thead>\n",
       "  <tbody>\n",
       "    <tr>\n",
       "      <th>2006</th>\n",
       "      <td>3.228451e+06</td>\n",
       "      <td>3.320726e+06</td>\n",
       "    </tr>\n",
       "    <tr>\n",
       "      <th>2011</th>\n",
       "      <td>3.408880e+06</td>\n",
       "      <td>3.508782e+06</td>\n",
       "    </tr>\n",
       "    <tr>\n",
       "      <th>2016</th>\n",
       "      <td>3.686014e+06</td>\n",
       "      <td>3.794217e+06</td>\n",
       "    </tr>\n",
       "    <tr>\n",
       "      <th>2021</th>\n",
       "      <td>4.848471e+06</td>\n",
       "      <td>4.989056e+06</td>\n",
       "    </tr>\n",
       "    <tr>\n",
       "      <th>2026</th>\n",
       "      <td>5.629041e+06</td>\n",
       "      <td>5.792105e+06</td>\n",
       "    </tr>\n",
       "    <tr>\n",
       "      <th>2031</th>\n",
       "      <td>6.409611e+06</td>\n",
       "      <td>6.595155e+06</td>\n",
       "    </tr>\n",
       "  </tbody>\n",
       "</table>\n",
       "</div>"
      ],
      "text/plain": [
       "      Male_Population_sgd_model  Female_Population_sgd_model\n",
       "2006               3.228451e+06                 3.320726e+06\n",
       "2011               3.408880e+06                 3.508782e+06\n",
       "2016               3.686014e+06                 3.794217e+06\n",
       "2021               4.848471e+06                 4.989056e+06\n",
       "2026               5.629041e+06                 5.792105e+06\n",
       "2031               6.409611e+06                 6.595155e+06"
      ]
     },
     "execution_count": 40,
     "metadata": {},
     "output_type": "execute_result"
    }
   ],
   "source": [
    "df_with_sgd_results_gender = df_with_sgd_results_gender.add_suffix('_sgd_model')\n",
    "df_with_sgd_results_gender"
   ]
  },
  {
   "cell_type": "markdown",
   "metadata": {
    "ExecuteTime": {
     "end_time": "2020-10-12T09:33:44.365154Z",
     "start_time": "2020-10-12T09:33:44.346999Z"
    }
   },
   "source": [
    "#### Poission Regression Model"
   ]
  },
  {
   "cell_type": "code",
   "execution_count": 41,
   "metadata": {
    "ExecuteTime": {
     "end_time": "2020-10-13T07:19:21.543295Z",
     "start_time": "2020-10-13T07:19:21.299239Z"
    }
   },
   "outputs": [
    {
     "name": "stderr",
     "output_type": "stream",
     "text": [
      "C:\\Users\\Arjun Janamatti\\Anaconda3\\envs\\tf_nptel\\lib\\site-packages\\sklearn\\utils\\validation.py:73: DataConversionWarning: A column-vector y was passed when a 1d array was expected. Please change the shape of y to (n_samples, ), for example using ravel().\n",
      "  return f(**kwargs)\n"
     ]
    },
    {
     "data": {
      "image/png": "[encoded data removed]",
      "text/plain": [
       "<Figure size 432x288 with 1 Axes>"
      ]
     },
     "metadata": {
      "needs_background": "light"
     },
     "output_type": "display_data"
    },
    {
     "name": "stderr",
     "output_type": "stream",
     "text": [
      "C:\\Users\\Arjun Janamatti\\Anaconda3\\envs\\tf_nptel\\lib\\site-packages\\sklearn\\utils\\validation.py:73: DataConversionWarning: A column-vector y was passed when a 1d array was expected. Please change the shape of y to (n_samples, ), for example using ravel().\n",
      "  return f(**kwargs)\n",
      "C:\\Users\\Arjun Janamatti\\Anaconda3\\envs\\tf_nptel\\lib\\site-packages\\sklearn\\linear_model\\_glm\\glm.py:285: ConvergenceWarning: lbfgs failed to converge (status=2):\n",
      "ABNORMAL_TERMINATION_IN_LNSRCH.\n",
      "\n",
      "Increase the number of iterations (max_iter) or scale the data as shown in:\n",
      "    https://scikit-learn.org/stable/modules/preprocessing.html\n",
      "  self.n_iter_ = _check_optimize_result(\"lbfgs\", opt_res)\n"
     ]
    },
    {
     "data": {
      "image/png": "[encoded data removed]",
      "text/plain": [
       "<Figure size 432x288 with 1 Axes>"
      ]
     },
     "metadata": {
      "needs_background": "light"
     },
     "output_type": "display_data"
    }
   ],
   "source": [
    "combined_gender_df, cols = reset_index_gender_df(combined_gender_df)\n",
    "model = PoissonRegressor()\n",
    "poisson_prediction_df = create_dataframe(model, combined_gender_df, cols)\n",
    "combined_gender_df.index = ['2006', '2011', '2016']\n",
    "df_with_poisson_results_gender = pd.concat([combined_gender_df, poisson_prediction_df])\n",
    "df_with_poisson_results_gender.drop(labels = 'year', axis = 1, inplace = True)"
   ]
  },
  {
   "cell_type": "code",
   "execution_count": 42,
   "metadata": {
    "ExecuteTime": {
     "end_time": "2020-10-13T07:19:21.558636Z",
     "start_time": "2020-10-13T07:19:21.546455Z"
    }
   },
   "outputs": [
    {
     "data": {
      "text/html": [
       "<div>\n",
       "<style scoped>\n",
       "    .dataframe tbody tr th:only-of-type {\n",
       "        vertical-align: middle;\n",
       "    }\n",
       "\n",
       "    .dataframe tbody tr th {\n",
       "        vertical-align: top;\n",
       "    }\n",
       "\n",
       "    .dataframe thead th {\n",
       "        text-align: right;\n",
       "    }\n",
       "</style>\n",
       "<table border=\"1\" class=\"dataframe\">\n",
       "  <thead>\n",
       "    <tr style=\"text-align: right;\">\n",
       "      <th></th>\n",
       "      <th>Male_Population_poisson_model</th>\n",
       "      <th>Female_Population_poisson_model</th>\n",
       "    </tr>\n",
       "  </thead>\n",
       "  <tbody>\n",
       "    <tr>\n",
       "      <th>2006</th>\n",
       "      <td>3.228451e+06</td>\n",
       "      <td>3.320726e+06</td>\n",
       "    </tr>\n",
       "    <tr>\n",
       "      <th>2011</th>\n",
       "      <td>3.408880e+06</td>\n",
       "      <td>3.508782e+06</td>\n",
       "    </tr>\n",
       "    <tr>\n",
       "      <th>2016</th>\n",
       "      <td>3.686014e+06</td>\n",
       "      <td>3.794217e+06</td>\n",
       "    </tr>\n",
       "    <tr>\n",
       "      <th>2021</th>\n",
       "      <td>3.925085e+06</td>\n",
       "      <td>4.042217e+06</td>\n",
       "    </tr>\n",
       "    <tr>\n",
       "      <th>2026</th>\n",
       "      <td>4.195119e+06</td>\n",
       "      <td>4.321908e+06</td>\n",
       "    </tr>\n",
       "    <tr>\n",
       "      <th>2031</th>\n",
       "      <td>4.483730e+06</td>\n",
       "      <td>4.620951e+06</td>\n",
       "    </tr>\n",
       "  </tbody>\n",
       "</table>\n",
       "</div>"
      ],
      "text/plain": [
       "      Male_Population_poisson_model  Female_Population_poisson_model\n",
       "2006                   3.228451e+06                     3.320726e+06\n",
       "2011                   3.408880e+06                     3.508782e+06\n",
       "2016                   3.686014e+06                     3.794217e+06\n",
       "2021                   3.925085e+06                     4.042217e+06\n",
       "2026                   4.195119e+06                     4.321908e+06\n",
       "2031                   4.483730e+06                     4.620951e+06"
      ]
     },
     "execution_count": 42,
     "metadata": {},
     "output_type": "execute_result"
    }
   ],
   "source": [
    "df_with_poisson_results_gender = df_with_poisson_results_gender.add_suffix('_poisson_model')\n",
    "df_with_poisson_results_gender"
   ]
  },
  {
   "cell_type": "code",
   "execution_count": 43,
   "metadata": {
    "ExecuteTime": {
     "end_time": "2020-10-13T07:19:21.744207Z",
     "start_time": "2020-10-13T07:19:21.561438Z"
    }
   },
   "outputs": [
    {
     "data": {
      "image/png": "[encoded data removed]",
      "text/plain": [
       "<Figure size 504x504 with 1 Axes>"
      ]
     },
     "metadata": {
      "needs_background": "light"
     },
     "output_type": "display_data"
    }
   ],
   "source": [
    "plot_comparison_results(1,\n",
    "                        df_with_linear_results_gender, \n",
    "                        df_with_huber_results_gender, \n",
    "                        df_with_sgd_results_gender, \n",
    "                        df_with_ransac_results_gender, \n",
    "                        df_with_poisson_results_gender)"
   ]
  },
  {
   "cell_type": "markdown",
   "metadata": {
    "ExecuteTime": {
     "end_time": "2020-10-13T06:16:38.659542Z",
     "start_time": "2020-10-13T06:16:38.650786Z"
    }
   },
   "source": [
    "# Income Category"
   ]
  },
  {
   "cell_type": "markdown",
   "metadata": {
    "ExecuteTime": {
     "end_time": "2020-10-13T06:16:49.032126Z",
     "start_time": "2020-10-13T06:16:49.021515Z"
    }
   },
   "source": [
    "### Pre-Processing"
   ]
  },
  {
   "cell_type": "code",
   "execution_count": 44,
   "metadata": {
    "ExecuteTime": {
     "end_time": "2020-10-13T07:19:21.900015Z",
     "start_time": "2020-10-13T07:19:21.747853Z"
    }
   },
   "outputs": [
    {
     "data": {
      "text/html": [
       "<div>\n",
       "<style scoped>\n",
       "    .dataframe tbody tr th:only-of-type {\n",
       "        vertical-align: middle;\n",
       "    }\n",
       "\n",
       "    .dataframe tbody tr th {\n",
       "        vertical-align: top;\n",
       "    }\n",
       "\n",
       "    .dataframe thead th {\n",
       "        text-align: right;\n",
       "    }\n",
       "</style>\n",
       "<table border=\"1\" class=\"dataframe\">\n",
       "  <thead>\n",
       "    <tr style=\"text-align: right;\">\n",
       "      <th></th>\n",
       "      <th>2006_data</th>\n",
       "      <th>2011_data</th>\n",
       "      <th>2016_data</th>\n",
       "    </tr>\n",
       "  </thead>\n",
       "  <tbody>\n",
       "    <tr>\n",
       "      <th>1_399</th>\n",
       "      <td>14595</td>\n",
       "      <td>11627</td>\n",
       "      <td>6582</td>\n",
       "    </tr>\n",
       "    <tr>\n",
       "      <th>400_799</th>\n",
       "      <td>82115</td>\n",
       "      <td>54559</td>\n",
       "      <td>37764</td>\n",
       "    </tr>\n",
       "    <tr>\n",
       "      <th>800_1499</th>\n",
       "      <td>217760</td>\n",
       "      <td>167780</td>\n",
       "      <td>138662</td>\n",
       "    </tr>\n",
       "    <tr>\n",
       "      <th>1499_1999</th>\n",
       "      <td>120383</td>\n",
       "      <td>119462</td>\n",
       "      <td>116529</td>\n",
       "    </tr>\n",
       "    <tr>\n",
       "      <th>2000_3999</th>\n",
       "      <td>209003</td>\n",
       "      <td>302591</td>\n",
       "      <td>338910</td>\n",
       "    </tr>\n",
       "    <tr>\n",
       "      <th>4000_above</th>\n",
       "      <td>24993</td>\n",
       "      <td>58342</td>\n",
       "      <td>134000</td>\n",
       "    </tr>\n",
       "  </tbody>\n",
       "</table>\n",
       "</div>"
      ],
      "text/plain": [
       "            2006_data  2011_data  2016_data\n",
       "1_399           14595      11627       6582\n",
       "400_799         82115      54559      37764\n",
       "800_1499       217760     167780     138662\n",
       "1499_1999      120383     119462     116529\n",
       "2000_3999      209003     302591     338910\n",
       "4000_above      24993      58342     134000"
      ]
     },
     "execution_count": 44,
     "metadata": {},
     "output_type": "execute_result"
    }
   ],
   "source": [
    "# since total population of male and female is required for year 06, 11, 16, we will only take the last file\n",
    "file_path_1 = '2016Census_T22A_NSW_STE.csv'\n",
    "file_path_2 = '2016Census_T22B_NSW_STE.csv'\n",
    "income_file_df_1 = pd.read_csv(filepath_or_buffer = os.path.join(direcotry_path, file_path_1))\n",
    "income_file_df_2 = pd.read_csv(filepath_or_buffer = os.path.join(direcotry_path, file_path_2))\n",
    "\n",
    "# combining both the dataframes\n",
    "income_file_df_combined = pd.concat([income_file_df_1, income_file_df_2], axis = 1)\n",
    "income_columns = list(income_file_df_combined.columns)\n",
    "\n",
    "# extracting the column names which have total, since this dataframe also has income with number of children\n",
    "# category, negative values not considered\n",
    "required_column_names = [names for names in income_columns\n",
    " if ('T' in names) & ('STE' not in names) & ('Tot' not in names) & ('N' not in names)\n",
    " & ('Par' not in names) & ('All' not in names)]\n",
    "\n",
    "# dataframe with required columns only\n",
    "income_file_df_combined_1 = income_file_df_combined[required_column_names]\n",
    "column_names_1 = list(income_file_df_combined_1.columns)\n",
    "\n",
    "# cateogry column from 1 to 399 income bracket\n",
    "first_category = [names for  names in column_names_1\n",
    "                  if ('1_149' in names) | ('150_299' in names) | ('300_399' in names)]\n",
    "\n",
    "# category columns from 400 to 799 income bracket\n",
    "second_category = [names for  names in column_names_1\n",
    "                  if ('400_499' in names) | ('500_649' in names) | ('650_799' in names)]\n",
    "\n",
    "# category columns from 800 to 1500 income bracket\n",
    "third_category = [names for  names in column_names_1\n",
    "                  if ('800_999' in names) | ('1000_1499' in names)]\n",
    "\n",
    "# category columns from 1500 to 1999 income bracket\n",
    "fourth_category = [names for  names in column_names_1\n",
    "                  if ('1500_1999' in names)]\n",
    "\n",
    "# category columns from 2000 to 4000 income bracket\n",
    "fifth_category = [names for  names in column_names_1\n",
    "                  if ('2000_2499' in names) | ('2500_2999' in names) | ('3000_3999' in names)]\n",
    "\n",
    "# category columns from 4000 and above income bracket\n",
    "sixth_category = [names for  names in column_names_1\n",
    "                  if ('4000m_CF' in names)]\n",
    "\n",
    "\n",
    "def return_income_categories(dataframe,category):\n",
    "    '''\n",
    "    \n",
    "    dataframe: the pandas dataframe, here it is income_file_df_combined_1,\n",
    "    category = income category.\n",
    "    \n",
    "    This function will return the series of sum for particular category for a particular year\n",
    "    '''\n",
    "    num = int((len(dataframe[category].columns))/3)\n",
    "    zero_399_06 = np.sum(((dataframe[category]).T).iloc[:num, 0])\n",
    "    zero_399_11 = np.sum(((dataframe[category]).T).iloc[num:num+num, 0])\n",
    "    zero_399_16 = np.sum(((dataframe[category]).T).iloc[num+num:, 0])\n",
    "    return zero_399_06, zero_399_11, zero_399_16\n",
    "\n",
    "\n",
    "# adding and getting required values for each category and year variables\n",
    "first_category_06, first_category_11, first_category_16 = return_income_categories(dataframe = income_file_df_combined_1,\n",
    "                                                                                   category = first_category)\n",
    "\n",
    "second_category_06, second_category_11, second_category_16 = return_income_categories(dataframe = income_file_df_combined_1,\n",
    "                                                                                   category = second_category)\n",
    "\n",
    "third_category_06, third_category_11, third_category_16 = return_income_categories(dataframe = income_file_df_combined_1,\n",
    "                                                                                   category = third_category)\n",
    "\n",
    "fourth_category_06, fourth_category_11, fourth_category_16 = return_income_categories(dataframe = income_file_df_combined_1,\n",
    "                                                                                   category = fourth_category)\n",
    "\n",
    "fifth_category_06, fifth_category_11, fifth_category_16 = return_income_categories(dataframe = income_file_df_combined_1,\n",
    "                                                                                   category = fifth_category)\n",
    "\n",
    "sixth_category_06, sixth_category_11, sixth_category_16 = return_income_categories(dataframe = income_file_df_combined_1,\n",
    "                                                                                   category = sixth_category)\n",
    "\n",
    "# sending the above data to a dataframe\n",
    "income_df = pd.DataFrame()\n",
    "income_df['2006_data'] = pd.Series([first_category_06, second_category_06, third_category_06, fourth_category_06, fifth_category_06, sixth_category_06])\n",
    "income_df['2011_data'] = pd.Series([first_category_11, second_category_11, third_category_11, fourth_category_11, fifth_category_11, sixth_category_11])\n",
    "income_df['2016_data'] = pd.Series([first_category_16, second_category_16, third_category_16, fourth_category_16, fifth_category_16, sixth_category_16])\n",
    "\n",
    "income_df.index = ['1_399', '400_799', '800_1499', '1499_1999', '2000_3999', '4000_above']\n",
    "\n",
    "income_df"
   ]
  },
  {
   "cell_type": "code",
   "execution_count": 45,
   "metadata": {
    "ExecuteTime": {
     "end_time": "2020-10-13T07:19:21.931448Z",
     "start_time": "2020-10-13T07:19:21.902399Z"
    }
   },
   "outputs": [
    {
     "data": {
      "text/html": [
       "<div>\n",
       "<style scoped>\n",
       "    .dataframe tbody tr th:only-of-type {\n",
       "        vertical-align: middle;\n",
       "    }\n",
       "\n",
       "    .dataframe tbody tr th {\n",
       "        vertical-align: top;\n",
       "    }\n",
       "\n",
       "    .dataframe thead th {\n",
       "        text-align: right;\n",
       "    }\n",
       "</style>\n",
       "<table border=\"1\" class=\"dataframe\">\n",
       "  <thead>\n",
       "    <tr style=\"text-align: right;\">\n",
       "      <th></th>\n",
       "      <th>1_399</th>\n",
       "      <th>400_799</th>\n",
       "      <th>800_1499</th>\n",
       "      <th>1499_1999</th>\n",
       "      <th>2000_3999</th>\n",
       "      <th>4000_above</th>\n",
       "      <th>Dates</th>\n",
       "    </tr>\n",
       "  </thead>\n",
       "  <tbody>\n",
       "    <tr>\n",
       "      <th>1</th>\n",
       "      <td>14595</td>\n",
       "      <td>82115</td>\n",
       "      <td>217760</td>\n",
       "      <td>120383</td>\n",
       "      <td>209003</td>\n",
       "      <td>24993</td>\n",
       "      <td>2006</td>\n",
       "    </tr>\n",
       "    <tr>\n",
       "      <th>2</th>\n",
       "      <td>11627</td>\n",
       "      <td>54559</td>\n",
       "      <td>167780</td>\n",
       "      <td>119462</td>\n",
       "      <td>302591</td>\n",
       "      <td>58342</td>\n",
       "      <td>2011</td>\n",
       "    </tr>\n",
       "    <tr>\n",
       "      <th>3</th>\n",
       "      <td>6582</td>\n",
       "      <td>37764</td>\n",
       "      <td>138662</td>\n",
       "      <td>116529</td>\n",
       "      <td>338910</td>\n",
       "      <td>134000</td>\n",
       "      <td>2016</td>\n",
       "    </tr>\n",
       "  </tbody>\n",
       "</table>\n",
       "</div>"
      ],
      "text/plain": [
       "   1_399  400_799  800_1499  1499_1999  2000_3999  4000_above Dates\n",
       "1  14595    82115    217760     120383     209003       24993  2006\n",
       "2  11627    54559    167780     119462     302591       58342  2011\n",
       "3   6582    37764    138662     116529     338910      134000  2016"
      ]
     },
     "execution_count": 45,
     "metadata": {},
     "output_type": "execute_result"
    }
   ],
   "source": [
    "income_df_transposed = income_df.T\n",
    "income_df_transposed.index = ['2006', '2011', '2016']\n",
    "# age_df_transposed.index = pd.DatetimeIndex(data = age_df_transposed.index)\n",
    "income_df_transposed['Dates'] = age_df_transposed.index\n",
    "income_df_transposed.index = ['1', '2','3']\n",
    "cols = list(income_df_transposed.columns)\n",
    "income_df_transposed"
   ]
  },
  {
   "cell_type": "markdown",
   "metadata": {
    "ExecuteTime": {
     "end_time": "2020-10-13T07:01:55.720170Z",
     "start_time": "2020-10-13T07:01:55.705076Z"
    }
   },
   "source": [
    "### Regression Models"
   ]
  },
  {
   "cell_type": "markdown",
   "metadata": {
    "ExecuteTime": {
     "end_time": "2020-10-13T07:02:04.410575Z",
     "start_time": "2020-10-13T07:02:04.396843Z"
    }
   },
   "source": [
    "#### Linear Regression\n",
    "* If the model is predicting negative values, they are shown as zero, hence some predictions have no bars"
   ]
  },
  {
   "cell_type": "code",
   "execution_count": 46,
   "metadata": {
    "ExecuteTime": {
     "end_time": "2020-10-13T07:19:22.583107Z",
     "start_time": "2020-10-13T07:19:21.933660Z"
    }
   },
   "outputs": [
    {
     "name": "stderr",
     "output_type": "stream",
     "text": [
      "C:\\Users\\Arjun Janamatti\\Anaconda3\\envs\\tf_nptel\\lib\\site-packages\\numpy\\core\\_asarray.py:136: VisibleDeprecationWarning: Creating an ndarray from ragged nested sequences (which is a list-or-tuple of lists-or-tuples-or ndarrays with different lengths or shapes) is deprecated. If you meant to do this, you must specify 'dtype=object' when creating the ndarray\n",
      "  return array(a, dtype, copy=False, order=order, subok=True)\n",
      "C:\\Users\\Arjun Janamatti\\Anaconda3\\envs\\tf_nptel\\lib\\site-packages\\numpy\\lib\\stride_tricks.py:256: VisibleDeprecationWarning: Creating an ndarray from ragged nested sequences (which is a list-or-tuple of lists-or-tuples-or ndarrays with different lengths or shapes) is deprecated. If you meant to do this, you must specify 'dtype=object' when creating the ndarray\n",
      "  args = [np.array(_m, copy=False, subok=subok) for _m in args]\n"
     ]
    },
    {
     "data": {
      "image/png": "[encoded data removed]",
      "text/plain": [
       "<Figure size 432x288 with 1 Axes>"
      ]
     },
     "metadata": {
      "needs_background": "light"
     },
     "output_type": "display_data"
    },
    {
     "name": "stderr",
     "output_type": "stream",
     "text": [
      "C:\\Users\\Arjun Janamatti\\Anaconda3\\envs\\tf_nptel\\lib\\site-packages\\numpy\\core\\_asarray.py:136: VisibleDeprecationWarning: Creating an ndarray from ragged nested sequences (which is a list-or-tuple of lists-or-tuples-or ndarrays with different lengths or shapes) is deprecated. If you meant to do this, you must specify 'dtype=object' when creating the ndarray\n",
      "  return array(a, dtype, copy=False, order=order, subok=True)\n",
      "C:\\Users\\Arjun Janamatti\\Anaconda3\\envs\\tf_nptel\\lib\\site-packages\\numpy\\lib\\stride_tricks.py:256: VisibleDeprecationWarning: Creating an ndarray from ragged nested sequences (which is a list-or-tuple of lists-or-tuples-or ndarrays with different lengths or shapes) is deprecated. If you meant to do this, you must specify 'dtype=object' when creating the ndarray\n",
      "  args = [np.array(_m, copy=False, subok=subok) for _m in args]\n"
     ]
    },
    {
     "data": {
      "image/png": "[encoded data removed]",
      "text/plain": [
       "<Figure size 432x288 with 1 Axes>"
      ]
     },
     "metadata": {
      "needs_background": "light"
     },
     "output_type": "display_data"
    },
    {
     "data": {
      "image/png": "[encoded data removed]",
      "text/plain": [
       "<Figure size 432x288 with 1 Axes>"
      ]
     },
     "metadata": {
      "needs_background": "light"
     },
     "output_type": "display_data"
    },
    {
     "data": {
      "image/png": "[encoded data removed]",
      "text/plain": [
       "<Figure size 432x288 with 1 Axes>"
      ]
     },
     "metadata": {
      "needs_background": "light"
     },
     "output_type": "display_data"
    },
    {
     "data": {
      "image/png": "[encoded data removed]",
      "text/plain": [
       "<Figure size 432x288 with 1 Axes>"
      ]
     },
     "metadata": {
      "needs_background": "light"
     },
     "output_type": "display_data"
    },
    {
     "data": {
      "image/png": "[encoded data removed]",
      "text/plain": [
       "<Figure size 432x288 with 1 Axes>"
      ]
     },
     "metadata": {
      "needs_background": "light"
     },
     "output_type": "display_data"
    }
   ],
   "source": [
    "# reset the dataframe with index and column names as per requirement\n",
    "income_df_transposed, cols = reset_index_gender_df(income_df_transposed)\n",
    "\n",
    "# regression model object\n",
    "linear_model_income = LinearRegression()\n",
    "\n",
    "# using the function to create a dataframe with regression results\n",
    "linear_prediction_df = create_dataframe(linear_model_income, income_df_transposed, cols)\n",
    "\n",
    "# adding the index of years for dataframe\n",
    "income_df_transposed.index = ['2006', '2011', '2016']\n",
    "\n",
    "# combining the original and prediction dataframe\n",
    "df_with_linear_results_income = pd.concat([income_df_transposed, linear_prediction_df])\n",
    "\n",
    "# removing the 'Dates' column, since the index column already has dates\n",
    "df_with_linear_results_income.drop(labels = 'Dates', axis = 1, inplace = True)"
   ]
  },
  {
   "cell_type": "code",
   "execution_count": 47,
   "metadata": {
    "ExecuteTime": {
     "end_time": "2020-10-13T07:19:22.614024Z",
     "start_time": "2020-10-13T07:19:22.585793Z"
    }
   },
   "outputs": [
    {
     "data": {
      "text/html": [
       "<div>\n",
       "<style scoped>\n",
       "    .dataframe tbody tr th:only-of-type {\n",
       "        vertical-align: middle;\n",
       "    }\n",
       "\n",
       "    .dataframe tbody tr th {\n",
       "        vertical-align: top;\n",
       "    }\n",
       "\n",
       "    .dataframe thead th {\n",
       "        text-align: right;\n",
       "    }\n",
       "</style>\n",
       "<table border=\"1\" class=\"dataframe\">\n",
       "  <thead>\n",
       "    <tr style=\"text-align: right;\">\n",
       "      <th></th>\n",
       "      <th>1_399_linear_model</th>\n",
       "      <th>400_799_linear_model</th>\n",
       "      <th>800_1499_linear_model</th>\n",
       "      <th>1499_1999_linear_model</th>\n",
       "      <th>2000_3999_linear_model</th>\n",
       "      <th>4000_above_linear_model</th>\n",
       "    </tr>\n",
       "  </thead>\n",
       "  <tbody>\n",
       "    <tr>\n",
       "      <th>2006</th>\n",
       "      <td>14595.000000</td>\n",
       "      <td>82115.0</td>\n",
       "      <td>217760.0</td>\n",
       "      <td>120383.000000</td>\n",
       "      <td>209003.000000</td>\n",
       "      <td>24993.0</td>\n",
       "    </tr>\n",
       "    <tr>\n",
       "      <th>2011</th>\n",
       "      <td>11627.000000</td>\n",
       "      <td>54559.0</td>\n",
       "      <td>167780.0</td>\n",
       "      <td>119462.000000</td>\n",
       "      <td>302591.000000</td>\n",
       "      <td>58342.0</td>\n",
       "    </tr>\n",
       "    <tr>\n",
       "      <th>2016</th>\n",
       "      <td>6582.000000</td>\n",
       "      <td>37764.0</td>\n",
       "      <td>138662.0</td>\n",
       "      <td>116529.000000</td>\n",
       "      <td>338910.000000</td>\n",
       "      <td>134000.0</td>\n",
       "    </tr>\n",
       "    <tr>\n",
       "      <th>2021</th>\n",
       "      <td>2921.666667</td>\n",
       "      <td>13795.0</td>\n",
       "      <td>95636.0</td>\n",
       "      <td>114937.333333</td>\n",
       "      <td>413408.333333</td>\n",
       "      <td>181452.0</td>\n",
       "    </tr>\n",
       "    <tr>\n",
       "      <th>2026</th>\n",
       "      <td>0.000000</td>\n",
       "      <td>0.0</td>\n",
       "      <td>56087.0</td>\n",
       "      <td>113010.333333</td>\n",
       "      <td>478361.833333</td>\n",
       "      <td>235955.5</td>\n",
       "    </tr>\n",
       "    <tr>\n",
       "      <th>2031</th>\n",
       "      <td>0.000000</td>\n",
       "      <td>0.0</td>\n",
       "      <td>16538.0</td>\n",
       "      <td>111083.333333</td>\n",
       "      <td>543315.333333</td>\n",
       "      <td>290459.0</td>\n",
       "    </tr>\n",
       "  </tbody>\n",
       "</table>\n",
       "</div>"
      ],
      "text/plain": [
       "      1_399_linear_model  400_799_linear_model  800_1499_linear_model  \\\n",
       "2006        14595.000000               82115.0               217760.0   \n",
       "2011        11627.000000               54559.0               167780.0   \n",
       "2016         6582.000000               37764.0               138662.0   \n",
       "2021         2921.666667               13795.0                95636.0   \n",
       "2026            0.000000                   0.0                56087.0   \n",
       "2031            0.000000                   0.0                16538.0   \n",
       "\n",
       "      1499_1999_linear_model  2000_3999_linear_model  4000_above_linear_model  \n",
       "2006           120383.000000           209003.000000                  24993.0  \n",
       "2011           119462.000000           302591.000000                  58342.0  \n",
       "2016           116529.000000           338910.000000                 134000.0  \n",
       "2021           114937.333333           413408.333333                 181452.0  \n",
       "2026           113010.333333           478361.833333                 235955.5  \n",
       "2031           111083.333333           543315.333333                 290459.0  "
      ]
     },
     "execution_count": 47,
     "metadata": {},
     "output_type": "execute_result"
    }
   ],
   "source": [
    "# adding suffix of model name for future identification\n",
    "df_with_linear_results_income = df_with_linear_results_income.add_suffix('_linear_model')\n",
    "df_with_linear_results_income"
   ]
  },
  {
   "cell_type": "markdown",
   "metadata": {},
   "source": [
    "#### Huber Regression Model"
   ]
  },
  {
   "cell_type": "code",
   "execution_count": 48,
   "metadata": {
    "ExecuteTime": {
     "end_time": "2020-10-13T07:19:23.390319Z",
     "start_time": "2020-10-13T07:19:22.617046Z"
    }
   },
   "outputs": [
    {
     "name": "stderr",
     "output_type": "stream",
     "text": [
      "C:\\Users\\Arjun Janamatti\\Anaconda3\\envs\\tf_nptel\\lib\\site-packages\\sklearn\\utils\\validation.py:73: DataConversionWarning: A column-vector y was passed when a 1d array was expected. Please change the shape of y to (n_samples, ), for example using ravel().\n",
      "  return f(**kwargs)\n"
     ]
    },
    {
     "data": {
      "image/png": "[encoded data removed]",
      "text/plain": [
       "<Figure size 432x288 with 1 Axes>"
      ]
     },
     "metadata": {
      "needs_background": "light"
     },
     "output_type": "display_data"
    },
    {
     "name": "stderr",
     "output_type": "stream",
     "text": [
      "C:\\Users\\Arjun Janamatti\\Anaconda3\\envs\\tf_nptel\\lib\\site-packages\\sklearn\\utils\\validation.py:73: DataConversionWarning: A column-vector y was passed when a 1d array was expected. Please change the shape of y to (n_samples, ), for example using ravel().\n",
      "  return f(**kwargs)\n"
     ]
    },
    {
     "data": {
      "image/png": "[encoded data removed]",
      "text/plain": [
       "<Figure size 432x288 with 1 Axes>"
      ]
     },
     "metadata": {
      "needs_background": "light"
     },
     "output_type": "display_data"
    },
    {
     "name": "stderr",
     "output_type": "stream",
     "text": [
      "C:\\Users\\Arjun Janamatti\\Anaconda3\\envs\\tf_nptel\\lib\\site-packages\\sklearn\\utils\\validation.py:73: DataConversionWarning: A column-vector y was passed when a 1d array was expected. Please change the shape of y to (n_samples, ), for example using ravel().\n",
      "  return f(**kwargs)\n"
     ]
    },
    {
     "data": {
      "image/png": "[encoded data removed]",
      "text/plain": [
       "<Figure size 432x288 with 1 Axes>"
      ]
     },
     "metadata": {
      "needs_background": "light"
     },
     "output_type": "display_data"
    },
    {
     "name": "stderr",
     "output_type": "stream",
     "text": [
      "C:\\Users\\Arjun Janamatti\\Anaconda3\\envs\\tf_nptel\\lib\\site-packages\\sklearn\\utils\\validation.py:73: DataConversionWarning: A column-vector y was passed when a 1d array was expected. Please change the shape of y to (n_samples, ), for example using ravel().\n",
      "  return f(**kwargs)\n",
      "C:\\Users\\Arjun Janamatti\\Anaconda3\\envs\\tf_nptel\\lib\\site-packages\\sklearn\\linear_model\\_huber.py:86: RuntimeWarning: invalid value encountered in double_scalars\n",
      "  squared_loss = weighted_loss / sigma\n",
      "C:\\Users\\Arjun Janamatti\\Anaconda3\\envs\\tf_nptel\\lib\\site-packages\\sklearn\\linear_model\\_huber.py:96: RuntimeWarning: divide by zero encountered in double_scalars\n",
      "  2. / sigma * safe_sparse_dot(weighted_non_outliers, X_non_outliers))\n",
      "C:\\Users\\Arjun Janamatti\\Anaconda3\\envs\\tf_nptel\\lib\\site-packages\\sklearn\\linear_model\\_huber.py:96: RuntimeWarning: invalid value encountered in multiply\n",
      "  2. / sigma * safe_sparse_dot(weighted_non_outliers, X_non_outliers))\n",
      "C:\\Users\\Arjun Janamatti\\Anaconda3\\envs\\tf_nptel\\lib\\site-packages\\sklearn\\linear_model\\_huber.py:117: RuntimeWarning: invalid value encountered in double_scalars\n",
      "  grad[-2] = -2. * np.sum(weighted_non_outliers) / sigma\n"
     ]
    },
    {
     "data": {
      "image/png": "[encoded data removed]",
      "text/plain": [
       "<Figure size 432x288 with 1 Axes>"
      ]
     },
     "metadata": {
      "needs_background": "light"
     },
     "output_type": "display_data"
    },
    {
     "name": "stderr",
     "output_type": "stream",
     "text": [
      "C:\\Users\\Arjun Janamatti\\Anaconda3\\envs\\tf_nptel\\lib\\site-packages\\sklearn\\utils\\validation.py:73: DataConversionWarning: A column-vector y was passed when a 1d array was expected. Please change the shape of y to (n_samples, ), for example using ravel().\n",
      "  return f(**kwargs)\n"
     ]
    },
    {
     "data": {
      "image/png": "[encoded data removed]",
      "text/plain": [
       "<Figure size 432x288 with 1 Axes>"
      ]
     },
     "metadata": {
      "needs_background": "light"
     },
     "output_type": "display_data"
    },
    {
     "name": "stderr",
     "output_type": "stream",
     "text": [
      "C:\\Users\\Arjun Janamatti\\Anaconda3\\envs\\tf_nptel\\lib\\site-packages\\sklearn\\utils\\validation.py:73: DataConversionWarning: A column-vector y was passed when a 1d array was expected. Please change the shape of y to (n_samples, ), for example using ravel().\n",
      "  return f(**kwargs)\n"
     ]
    },
    {
     "data": {
      "image/png": "[encoded data removed]",
      "text/plain": [
       "<Figure size 432x288 with 1 Axes>"
      ]
     },
     "metadata": {
      "needs_background": "light"
     },
     "output_type": "display_data"
    }
   ],
   "source": [
    "# reset the dataframe with index and column names as per requirement\n",
    "income_df_transposed, cols = reset_index_gender_df(income_df_transposed)\n",
    "\n",
    "# regression model object\n",
    "huber_model_income = HuberRegressor()\n",
    "\n",
    "# using the function to create a dataframe with regression results\n",
    "huber_prediction_df = create_dataframe(huber_model_income, income_df_transposed, cols)\n",
    "\n",
    "# adding the index of years for dataframe\n",
    "income_df_transposed.index = ['2006', '2011', '2016']\n",
    "\n",
    "# combining the original and prediction dataframe\n",
    "df_with_huber_results_income = pd.concat([income_df_transposed, huber_prediction_df])\n",
    "\n",
    "# removing the 'Dates' column, since the index column already has dates\n",
    "df_with_huber_results_income.drop(labels = 'Dates', axis = 1, inplace = True)"
   ]
  },
  {
   "cell_type": "code",
   "execution_count": 49,
   "metadata": {
    "ExecuteTime": {
     "end_time": "2020-10-13T07:19:23.406459Z",
     "start_time": "2020-10-13T07:19:23.392342Z"
    }
   },
   "outputs": [
    {
     "data": {
      "text/html": [
       "<div>\n",
       "<style scoped>\n",
       "    .dataframe tbody tr th:only-of-type {\n",
       "        vertical-align: middle;\n",
       "    }\n",
       "\n",
       "    .dataframe tbody tr th {\n",
       "        vertical-align: top;\n",
       "    }\n",
       "\n",
       "    .dataframe thead th {\n",
       "        text-align: right;\n",
       "    }\n",
       "</style>\n",
       "<table border=\"1\" class=\"dataframe\">\n",
       "  <thead>\n",
       "    <tr style=\"text-align: right;\">\n",
       "      <th></th>\n",
       "      <th>1_399_huber_model</th>\n",
       "      <th>400_799_huber_model</th>\n",
       "      <th>800_1499_huber_model</th>\n",
       "      <th>1499_1999_huber_model</th>\n",
       "      <th>2000_3999_huber_model</th>\n",
       "      <th>4000_above_huber_model</th>\n",
       "    </tr>\n",
       "  </thead>\n",
       "  <tbody>\n",
       "    <tr>\n",
       "      <th>2006</th>\n",
       "      <td>14595.000000</td>\n",
       "      <td>82115.000000</td>\n",
       "      <td>217760.000000</td>\n",
       "      <td>120383.000000</td>\n",
       "      <td>209003.000000</td>\n",
       "      <td>24993.000000</td>\n",
       "    </tr>\n",
       "    <tr>\n",
       "      <th>2011</th>\n",
       "      <td>11627.000000</td>\n",
       "      <td>54559.000000</td>\n",
       "      <td>167780.000000</td>\n",
       "      <td>119462.000000</td>\n",
       "      <td>302591.000000</td>\n",
       "      <td>58342.000000</td>\n",
       "    </tr>\n",
       "    <tr>\n",
       "      <th>2016</th>\n",
       "      <td>6582.000000</td>\n",
       "      <td>37764.000000</td>\n",
       "      <td>138662.000000</td>\n",
       "      <td>116529.000000</td>\n",
       "      <td>338910.000000</td>\n",
       "      <td>134000.000000</td>\n",
       "    </tr>\n",
       "    <tr>\n",
       "      <th>2021</th>\n",
       "      <td>2609.507556</td>\n",
       "      <td>20969.123836</td>\n",
       "      <td>122201.023553</td>\n",
       "      <td>114603.815862</td>\n",
       "      <td>345109.362807</td>\n",
       "      <td>110155.582735</td>\n",
       "    </tr>\n",
       "    <tr>\n",
       "      <th>2026</th>\n",
       "      <td>0.000000</td>\n",
       "      <td>4172.537867</td>\n",
       "      <td>98302.401729</td>\n",
       "      <td>112672.483764</td>\n",
       "      <td>369007.978434</td>\n",
       "      <td>134054.098880</td>\n",
       "    </tr>\n",
       "    <tr>\n",
       "      <th>2031</th>\n",
       "      <td>0.000000</td>\n",
       "      <td>0.000000</td>\n",
       "      <td>74403.779905</td>\n",
       "      <td>110741.151666</td>\n",
       "      <td>392906.594062</td>\n",
       "      <td>157952.615026</td>\n",
       "    </tr>\n",
       "  </tbody>\n",
       "</table>\n",
       "</div>"
      ],
      "text/plain": [
       "      1_399_huber_model  400_799_huber_model  800_1499_huber_model  \\\n",
       "2006       14595.000000         82115.000000         217760.000000   \n",
       "2011       11627.000000         54559.000000         167780.000000   \n",
       "2016        6582.000000         37764.000000         138662.000000   \n",
       "2021        2609.507556         20969.123836         122201.023553   \n",
       "2026           0.000000          4172.537867          98302.401729   \n",
       "2031           0.000000             0.000000          74403.779905   \n",
       "\n",
       "      1499_1999_huber_model  2000_3999_huber_model  4000_above_huber_model  \n",
       "2006          120383.000000          209003.000000            24993.000000  \n",
       "2011          119462.000000          302591.000000            58342.000000  \n",
       "2016          116529.000000          338910.000000           134000.000000  \n",
       "2021          114603.815862          345109.362807           110155.582735  \n",
       "2026          112672.483764          369007.978434           134054.098880  \n",
       "2031          110741.151666          392906.594062           157952.615026  "
      ]
     },
     "execution_count": 49,
     "metadata": {},
     "output_type": "execute_result"
    }
   ],
   "source": [
    "# adding suffix of model name for future identification\n",
    "df_with_huber_results_income = df_with_huber_results_income.add_suffix('_huber_model')\n",
    "df_with_huber_results_income"
   ]
  },
  {
   "cell_type": "markdown",
   "metadata": {
    "ExecuteTime": {
     "end_time": "2020-10-13T07:10:25.155467Z",
     "start_time": "2020-10-13T07:10:25.144233Z"
    }
   },
   "source": [
    "#### RANSAC Regression Model"
   ]
  },
  {
   "cell_type": "code",
   "execution_count": 50,
   "metadata": {
    "ExecuteTime": {
     "end_time": "2020-10-13T07:19:24.153115Z",
     "start_time": "2020-10-13T07:19:23.409896Z"
    }
   },
   "outputs": [
    {
     "name": "stderr",
     "output_type": "stream",
     "text": [
      "C:\\Users\\Arjun Janamatti\\Anaconda3\\envs\\tf_nptel\\lib\\site-packages\\numpy\\core\\_asarray.py:136: VisibleDeprecationWarning: Creating an ndarray from ragged nested sequences (which is a list-or-tuple of lists-or-tuples-or ndarrays with different lengths or shapes) is deprecated. If you meant to do this, you must specify 'dtype=object' when creating the ndarray\n",
      "  return array(a, dtype, copy=False, order=order, subok=True)\n",
      "C:\\Users\\Arjun Janamatti\\Anaconda3\\envs\\tf_nptel\\lib\\site-packages\\numpy\\lib\\stride_tricks.py:256: VisibleDeprecationWarning: Creating an ndarray from ragged nested sequences (which is a list-or-tuple of lists-or-tuples-or ndarrays with different lengths or shapes) is deprecated. If you meant to do this, you must specify 'dtype=object' when creating the ndarray\n",
      "  args = [np.array(_m, copy=False, subok=subok) for _m in args]\n"
     ]
    },
    {
     "data": {
      "image/png": "[encoded data removed]",
      "text/plain": [
       "<Figure size 432x288 with 1 Axes>"
      ]
     },
     "metadata": {
      "needs_background": "light"
     },
     "output_type": "display_data"
    },
    {
     "name": "stderr",
     "output_type": "stream",
     "text": [
      "C:\\Users\\Arjun Janamatti\\Anaconda3\\envs\\tf_nptel\\lib\\site-packages\\numpy\\core\\_asarray.py:136: VisibleDeprecationWarning: Creating an ndarray from ragged nested sequences (which is a list-or-tuple of lists-or-tuples-or ndarrays with different lengths or shapes) is deprecated. If you meant to do this, you must specify 'dtype=object' when creating the ndarray\n",
      "  return array(a, dtype, copy=False, order=order, subok=True)\n",
      "C:\\Users\\Arjun Janamatti\\Anaconda3\\envs\\tf_nptel\\lib\\site-packages\\numpy\\lib\\stride_tricks.py:256: VisibleDeprecationWarning: Creating an ndarray from ragged nested sequences (which is a list-or-tuple of lists-or-tuples-or ndarrays with different lengths or shapes) is deprecated. If you meant to do this, you must specify 'dtype=object' when creating the ndarray\n",
      "  args = [np.array(_m, copy=False, subok=subok) for _m in args]\n"
     ]
    },
    {
     "data": {
      "image/png": "[encoded data removed]",
      "text/plain": [
       "<Figure size 432x288 with 1 Axes>"
      ]
     },
     "metadata": {
      "needs_background": "light"
     },
     "output_type": "display_data"
    },
    {
     "data": {
      "image/png": "[encoded data removed]",
      "text/plain": [
       "<Figure size 432x288 with 1 Axes>"
      ]
     },
     "metadata": {
      "needs_background": "light"
     },
     "output_type": "display_data"
    },
    {
     "data": {
      "image/png": "[encoded data removed]",
      "text/plain": [
       "<Figure size 432x288 with 1 Axes>"
      ]
     },
     "metadata": {
      "needs_background": "light"
     },
     "output_type": "display_data"
    },
    {
     "data": {
      "image/png": "[encoded data removed]",
      "text/plain": [
       "<Figure size 432x288 with 1 Axes>"
      ]
     },
     "metadata": {
      "needs_background": "light"
     },
     "output_type": "display_data"
    },
    {
     "data": {
      "image/png": "[encoded data removed]",
      "text/plain": [
       "<Figure size 432x288 with 1 Axes>"
      ]
     },
     "metadata": {
      "needs_background": "light"
     },
     "output_type": "display_data"
    }
   ],
   "source": [
    "# reset the dataframe with index and column names as per requirement\n",
    "income_df_transposed, cols = reset_index_gender_df(income_df_transposed)\n",
    "\n",
    "# regression model object\n",
    "ransac_model_income = RANSACRegressor()\n",
    "\n",
    "# using the function to create a dataframe with regression results\n",
    "ransac_prediction_df = create_dataframe(ransac_model_income, income_df_transposed, cols)\n",
    "\n",
    "# adding the index of years for dataframe\n",
    "income_df_transposed.index = ['2006', '2011', '2016']\n",
    "\n",
    "# combining the original and prediction dataframe\n",
    "df_with_ransac_results_income = pd.concat([income_df_transposed, ransac_prediction_df])\n",
    "\n",
    "# removing the 'Dates' column, since the index column already has dates\n",
    "df_with_ransac_results_income.drop(labels = 'Dates', axis = 1, inplace = True)"
   ]
  },
  {
   "cell_type": "code",
   "execution_count": 51,
   "metadata": {
    "ExecuteTime": {
     "end_time": "2020-10-13T07:19:24.168501Z",
     "start_time": "2020-10-13T07:19:24.153997Z"
    }
   },
   "outputs": [
    {
     "data": {
      "text/html": [
       "<div>\n",
       "<style scoped>\n",
       "    .dataframe tbody tr th:only-of-type {\n",
       "        vertical-align: middle;\n",
       "    }\n",
       "\n",
       "    .dataframe tbody tr th {\n",
       "        vertical-align: top;\n",
       "    }\n",
       "\n",
       "    .dataframe thead th {\n",
       "        text-align: right;\n",
       "    }\n",
       "</style>\n",
       "<table border=\"1\" class=\"dataframe\">\n",
       "  <thead>\n",
       "    <tr style=\"text-align: right;\">\n",
       "      <th></th>\n",
       "      <th>1_399_ransac_model</th>\n",
       "      <th>400_799_ransac_model</th>\n",
       "      <th>800_1499_ransac_model</th>\n",
       "      <th>1499_1999_ransac_model</th>\n",
       "      <th>2000_3999_ransac_model</th>\n",
       "      <th>4000_above_ransac_model</th>\n",
       "    </tr>\n",
       "  </thead>\n",
       "  <tbody>\n",
       "    <tr>\n",
       "      <th>2006</th>\n",
       "      <td>14595.000000</td>\n",
       "      <td>82115.0</td>\n",
       "      <td>217760.0</td>\n",
       "      <td>120383.0</td>\n",
       "      <td>209003.000000</td>\n",
       "      <td>24993.0</td>\n",
       "    </tr>\n",
       "    <tr>\n",
       "      <th>2011</th>\n",
       "      <td>11627.000000</td>\n",
       "      <td>54559.0</td>\n",
       "      <td>167780.0</td>\n",
       "      <td>119462.0</td>\n",
       "      <td>302591.000000</td>\n",
       "      <td>58342.0</td>\n",
       "    </tr>\n",
       "    <tr>\n",
       "      <th>2016</th>\n",
       "      <td>6582.000000</td>\n",
       "      <td>37764.0</td>\n",
       "      <td>138662.0</td>\n",
       "      <td>116529.0</td>\n",
       "      <td>338910.000000</td>\n",
       "      <td>134000.0</td>\n",
       "    </tr>\n",
       "    <tr>\n",
       "      <th>2021</th>\n",
       "      <td>2921.666667</td>\n",
       "      <td>13795.0</td>\n",
       "      <td>95636.0</td>\n",
       "      <td>113596.0</td>\n",
       "      <td>413408.333333</td>\n",
       "      <td>181452.0</td>\n",
       "    </tr>\n",
       "    <tr>\n",
       "      <th>2026</th>\n",
       "      <td>0.000000</td>\n",
       "      <td>0.0</td>\n",
       "      <td>56087.0</td>\n",
       "      <td>110663.0</td>\n",
       "      <td>478361.833333</td>\n",
       "      <td>235955.5</td>\n",
       "    </tr>\n",
       "    <tr>\n",
       "      <th>2031</th>\n",
       "      <td>0.000000</td>\n",
       "      <td>0.0</td>\n",
       "      <td>16538.0</td>\n",
       "      <td>107730.0</td>\n",
       "      <td>543315.333333</td>\n",
       "      <td>290459.0</td>\n",
       "    </tr>\n",
       "  </tbody>\n",
       "</table>\n",
       "</div>"
      ],
      "text/plain": [
       "      1_399_ransac_model  400_799_ransac_model  800_1499_ransac_model  \\\n",
       "2006        14595.000000               82115.0               217760.0   \n",
       "2011        11627.000000               54559.0               167780.0   \n",
       "2016         6582.000000               37764.0               138662.0   \n",
       "2021         2921.666667               13795.0                95636.0   \n",
       "2026            0.000000                   0.0                56087.0   \n",
       "2031            0.000000                   0.0                16538.0   \n",
       "\n",
       "      1499_1999_ransac_model  2000_3999_ransac_model  4000_above_ransac_model  \n",
       "2006                120383.0           209003.000000                  24993.0  \n",
       "2011                119462.0           302591.000000                  58342.0  \n",
       "2016                116529.0           338910.000000                 134000.0  \n",
       "2021                113596.0           413408.333333                 181452.0  \n",
       "2026                110663.0           478361.833333                 235955.5  \n",
       "2031                107730.0           543315.333333                 290459.0  "
      ]
     },
     "execution_count": 51,
     "metadata": {},
     "output_type": "execute_result"
    }
   ],
   "source": [
    "# adding suffix of model name for future identification\n",
    "df_with_ransac_results_income = df_with_ransac_results_income.add_suffix('_ransac_model')\n",
    "df_with_ransac_results_income"
   ]
  },
  {
   "cell_type": "markdown",
   "metadata": {
    "ExecuteTime": {
     "end_time": "2020-10-13T07:15:17.755541Z",
     "start_time": "2020-10-13T07:15:17.741507Z"
    }
   },
   "source": [
    "#### SGD Regression Model"
   ]
  },
  {
   "cell_type": "code",
   "execution_count": 52,
   "metadata": {
    "ExecuteTime": {
     "end_time": "2020-10-13T07:19:25.000969Z",
     "start_time": "2020-10-13T07:19:24.171155Z"
    }
   },
   "outputs": [
    {
     "name": "stderr",
     "output_type": "stream",
     "text": [
      "C:\\Users\\Arjun Janamatti\\Anaconda3\\envs\\tf_nptel\\lib\\site-packages\\sklearn\\utils\\validation.py:73: DataConversionWarning: A column-vector y was passed when a 1d array was expected. Please change the shape of y to (n_samples, ), for example using ravel().\n",
      "  return f(**kwargs)\n",
      "C:\\Users\\Arjun Janamatti\\Anaconda3\\envs\\tf_nptel\\lib\\site-packages\\sklearn\\linear_model\\_stochastic_gradient.py:1211: ConvergenceWarning: Maximum number of iteration reached before convergence. Consider increasing max_iter to improve the fit.\n",
      "  ConvergenceWarning)\n"
     ]
    },
    {
     "data": {
      "image/png": "[encoded data removed]",
      "text/plain": [
       "<Figure size 432x288 with 1 Axes>"
      ]
     },
     "metadata": {
      "needs_background": "light"
     },
     "output_type": "display_data"
    },
    {
     "name": "stderr",
     "output_type": "stream",
     "text": [
      "C:\\Users\\Arjun Janamatti\\Anaconda3\\envs\\tf_nptel\\lib\\site-packages\\sklearn\\utils\\validation.py:73: DataConversionWarning: A column-vector y was passed when a 1d array was expected. Please change the shape of y to (n_samples, ), for example using ravel().\n",
      "  return f(**kwargs)\n",
      "C:\\Users\\Arjun Janamatti\\Anaconda3\\envs\\tf_nptel\\lib\\site-packages\\sklearn\\linear_model\\_stochastic_gradient.py:1211: ConvergenceWarning: Maximum number of iteration reached before convergence. Consider increasing max_iter to improve the fit.\n",
      "  ConvergenceWarning)\n"
     ]
    },
    {
     "data": {
      "image/png": "[encoded data removed]",
      "text/plain": [
       "<Figure size 432x288 with 1 Axes>"
      ]
     },
     "metadata": {
      "needs_background": "light"
     },
     "output_type": "display_data"
    },
    {
     "name": "stderr",
     "output_type": "stream",
     "text": [
      "C:\\Users\\Arjun Janamatti\\Anaconda3\\envs\\tf_nptel\\lib\\site-packages\\sklearn\\utils\\validation.py:73: DataConversionWarning: A column-vector y was passed when a 1d array was expected. Please change the shape of y to (n_samples, ), for example using ravel().\n",
      "  return f(**kwargs)\n",
      "C:\\Users\\Arjun Janamatti\\Anaconda3\\envs\\tf_nptel\\lib\\site-packages\\sklearn\\linear_model\\_stochastic_gradient.py:1211: ConvergenceWarning: Maximum number of iteration reached before convergence. Consider increasing max_iter to improve the fit.\n",
      "  ConvergenceWarning)\n"
     ]
    },
    {
     "data": {
      "image/png": "[encoded data removed]",
      "text/plain": [
       "<Figure size 432x288 with 1 Axes>"
      ]
     },
     "metadata": {
      "needs_background": "light"
     },
     "output_type": "display_data"
    },
    {
     "name": "stderr",
     "output_type": "stream",
     "text": [
      "C:\\Users\\Arjun Janamatti\\Anaconda3\\envs\\tf_nptel\\lib\\site-packages\\sklearn\\utils\\validation.py:73: DataConversionWarning: A column-vector y was passed when a 1d array was expected. Please change the shape of y to (n_samples, ), for example using ravel().\n",
      "  return f(**kwargs)\n",
      "C:\\Users\\Arjun Janamatti\\Anaconda3\\envs\\tf_nptel\\lib\\site-packages\\sklearn\\linear_model\\_stochastic_gradient.py:1211: ConvergenceWarning: Maximum number of iteration reached before convergence. Consider increasing max_iter to improve the fit.\n",
      "  ConvergenceWarning)\n"
     ]
    },
    {
     "data": {
      "image/png": "[encoded data removed]",
      "text/plain": [
       "<Figure size 432x288 with 1 Axes>"
      ]
     },
     "metadata": {
      "needs_background": "light"
     },
     "output_type": "display_data"
    },
    {
     "name": "stderr",
     "output_type": "stream",
     "text": [
      "C:\\Users\\Arjun Janamatti\\Anaconda3\\envs\\tf_nptel\\lib\\site-packages\\sklearn\\utils\\validation.py:73: DataConversionWarning: A column-vector y was passed when a 1d array was expected. Please change the shape of y to (n_samples, ), for example using ravel().\n",
      "  return f(**kwargs)\n",
      "C:\\Users\\Arjun Janamatti\\Anaconda3\\envs\\tf_nptel\\lib\\site-packages\\sklearn\\linear_model\\_stochastic_gradient.py:1211: ConvergenceWarning: Maximum number of iteration reached before convergence. Consider increasing max_iter to improve the fit.\n",
      "  ConvergenceWarning)\n"
     ]
    },
    {
     "data": {
      "image/png": "[encoded data removed]",
      "text/plain": [
       "<Figure size 432x288 with 1 Axes>"
      ]
     },
     "metadata": {
      "needs_background": "light"
     },
     "output_type": "display_data"
    },
    {
     "name": "stderr",
     "output_type": "stream",
     "text": [
      "C:\\Users\\Arjun Janamatti\\Anaconda3\\envs\\tf_nptel\\lib\\site-packages\\sklearn\\utils\\validation.py:73: DataConversionWarning: A column-vector y was passed when a 1d array was expected. Please change the shape of y to (n_samples, ), for example using ravel().\n",
      "  return f(**kwargs)\n",
      "C:\\Users\\Arjun Janamatti\\Anaconda3\\envs\\tf_nptel\\lib\\site-packages\\sklearn\\linear_model\\_stochastic_gradient.py:1211: ConvergenceWarning: Maximum number of iteration reached before convergence. Consider increasing max_iter to improve the fit.\n",
      "  ConvergenceWarning)\n"
     ]
    },
    {
     "data": {
      "image/png": "[encoded data removed]",
      "text/plain": [
       "<Figure size 432x288 with 1 Axes>"
      ]
     },
     "metadata": {
      "needs_background": "light"
     },
     "output_type": "display_data"
    }
   ],
   "source": [
    "# reset the dataframe with index and column names as per requirement\n",
    "income_df_transposed, cols = reset_index_gender_df(income_df_transposed)\n",
    "\n",
    "# regression model object\n",
    "sgd_model_income = SGDRegressor()\n",
    "\n",
    "# using the function to create a dataframe with regression results\n",
    "sgd_prediction_df = create_dataframe(sgd_model_income, income_df_transposed, cols)\n",
    "\n",
    "# adding the index of years for dataframe\n",
    "income_df_transposed.index = ['2006', '2011', '2016']\n",
    "\n",
    "# combining the original and prediction dataframe\n",
    "df_with_sgd_results_income = pd.concat([income_df_transposed, sgd_prediction_df])\n",
    "\n",
    "# removing the 'Dates' column, since the index column already has dates\n",
    "df_with_sgd_results_income.drop(labels = 'Dates', axis = 1, inplace = True)"
   ]
  },
  {
   "cell_type": "code",
   "execution_count": 53,
   "metadata": {
    "ExecuteTime": {
     "end_time": "2020-10-13T07:19:25.031507Z",
     "start_time": "2020-10-13T07:19:25.002848Z"
    }
   },
   "outputs": [
    {
     "data": {
      "text/html": [
       "<div>\n",
       "<style scoped>\n",
       "    .dataframe tbody tr th:only-of-type {\n",
       "        vertical-align: middle;\n",
       "    }\n",
       "\n",
       "    .dataframe tbody tr th {\n",
       "        vertical-align: top;\n",
       "    }\n",
       "\n",
       "    .dataframe thead th {\n",
       "        text-align: right;\n",
       "    }\n",
       "</style>\n",
       "<table border=\"1\" class=\"dataframe\">\n",
       "  <thead>\n",
       "    <tr style=\"text-align: right;\">\n",
       "      <th></th>\n",
       "      <th>1_399_sgd_model</th>\n",
       "      <th>400_799_sgd_model</th>\n",
       "      <th>800_1499_sgd_model</th>\n",
       "      <th>1499_1999_sgd_model</th>\n",
       "      <th>2000_3999_sgd_model</th>\n",
       "      <th>4000_above_sgd_model</th>\n",
       "    </tr>\n",
       "  </thead>\n",
       "  <tbody>\n",
       "    <tr>\n",
       "      <th>2006</th>\n",
       "      <td>14595.000000</td>\n",
       "      <td>82115.000000</td>\n",
       "      <td>217760.000000</td>\n",
       "      <td>120383.000000</td>\n",
       "      <td>209003.000000</td>\n",
       "      <td>24993.000000</td>\n",
       "    </tr>\n",
       "    <tr>\n",
       "      <th>2011</th>\n",
       "      <td>11627.000000</td>\n",
       "      <td>54559.000000</td>\n",
       "      <td>167780.000000</td>\n",
       "      <td>119462.000000</td>\n",
       "      <td>302591.000000</td>\n",
       "      <td>58342.000000</td>\n",
       "    </tr>\n",
       "    <tr>\n",
       "      <th>2016</th>\n",
       "      <td>6582.000000</td>\n",
       "      <td>37764.000000</td>\n",
       "      <td>138662.000000</td>\n",
       "      <td>116529.000000</td>\n",
       "      <td>338910.000000</td>\n",
       "      <td>134000.000000</td>\n",
       "    </tr>\n",
       "    <tr>\n",
       "      <th>2021</th>\n",
       "      <td>9785.733950</td>\n",
       "      <td>51013.513844</td>\n",
       "      <td>184960.881433</td>\n",
       "      <td>155885.657929</td>\n",
       "      <td>454836.693009</td>\n",
       "      <td>161505.215805</td>\n",
       "    </tr>\n",
       "    <tr>\n",
       "      <th>2026</th>\n",
       "      <td>9758.674274</td>\n",
       "      <td>50412.553144</td>\n",
       "      <td>197322.708850</td>\n",
       "      <td>177699.518214</td>\n",
       "      <td>543826.406918</td>\n",
       "      <td>204433.756809</td>\n",
       "    </tr>\n",
       "    <tr>\n",
       "      <th>2031</th>\n",
       "      <td>9731.614599</td>\n",
       "      <td>49811.592443</td>\n",
       "      <td>209684.536267</td>\n",
       "      <td>199513.378499</td>\n",
       "      <td>632816.120828</td>\n",
       "      <td>247362.297813</td>\n",
       "    </tr>\n",
       "  </tbody>\n",
       "</table>\n",
       "</div>"
      ],
      "text/plain": [
       "      1_399_sgd_model  400_799_sgd_model  800_1499_sgd_model  \\\n",
       "2006     14595.000000       82115.000000       217760.000000   \n",
       "2011     11627.000000       54559.000000       167780.000000   \n",
       "2016      6582.000000       37764.000000       138662.000000   \n",
       "2021      9785.733950       51013.513844       184960.881433   \n",
       "2026      9758.674274       50412.553144       197322.708850   \n",
       "2031      9731.614599       49811.592443       209684.536267   \n",
       "\n",
       "      1499_1999_sgd_model  2000_3999_sgd_model  4000_above_sgd_model  \n",
       "2006        120383.000000        209003.000000          24993.000000  \n",
       "2011        119462.000000        302591.000000          58342.000000  \n",
       "2016        116529.000000        338910.000000         134000.000000  \n",
       "2021        155885.657929        454836.693009         161505.215805  \n",
       "2026        177699.518214        543826.406918         204433.756809  \n",
       "2031        199513.378499        632816.120828         247362.297813  "
      ]
     },
     "execution_count": 53,
     "metadata": {},
     "output_type": "execute_result"
    }
   ],
   "source": [
    "# adding suffix of model name for future identification\n",
    "df_with_sgd_results_income = df_with_sgd_results_income.add_suffix('_sgd_model')\n",
    "df_with_sgd_results_income"
   ]
  },
  {
   "cell_type": "markdown",
   "metadata": {
    "ExecuteTime": {
     "end_time": "2020-10-13T07:17:41.294004Z",
     "start_time": "2020-10-13T07:17:41.280978Z"
    }
   },
   "source": [
    "#### Poisson Regression Model"
   ]
  },
  {
   "cell_type": "code",
   "execution_count": 54,
   "metadata": {
    "ExecuteTime": {
     "end_time": "2020-10-13T07:19:25.758893Z",
     "start_time": "2020-10-13T07:19:25.032725Z"
    }
   },
   "outputs": [
    {
     "name": "stderr",
     "output_type": "stream",
     "text": [
      "C:\\Users\\Arjun Janamatti\\Anaconda3\\envs\\tf_nptel\\lib\\site-packages\\sklearn\\utils\\validation.py:73: DataConversionWarning: A column-vector y was passed when a 1d array was expected. Please change the shape of y to (n_samples, ), for example using ravel().\n",
      "  return f(**kwargs)\n"
     ]
    },
    {
     "data": {
      "image/png": "[encoded data removed]",
      "text/plain": [
       "<Figure size 432x288 with 1 Axes>"
      ]
     },
     "metadata": {
      "needs_background": "light"
     },
     "output_type": "display_data"
    },
    {
     "name": "stderr",
     "output_type": "stream",
     "text": [
      "C:\\Users\\Arjun Janamatti\\Anaconda3\\envs\\tf_nptel\\lib\\site-packages\\sklearn\\utils\\validation.py:73: DataConversionWarning: A column-vector y was passed when a 1d array was expected. Please change the shape of y to (n_samples, ), for example using ravel().\n",
      "  return f(**kwargs)\n"
     ]
    },
    {
     "data": {
      "image/png": "[encoded data removed]",
      "text/plain": [
       "<Figure size 432x288 with 1 Axes>"
      ]
     },
     "metadata": {
      "needs_background": "light"
     },
     "output_type": "display_data"
    },
    {
     "name": "stderr",
     "output_type": "stream",
     "text": [
      "C:\\Users\\Arjun Janamatti\\Anaconda3\\envs\\tf_nptel\\lib\\site-packages\\sklearn\\utils\\validation.py:73: DataConversionWarning: A column-vector y was passed when a 1d array was expected. Please change the shape of y to (n_samples, ), for example using ravel().\n",
      "  return f(**kwargs)\n"
     ]
    },
    {
     "data": {
      "image/png": "[encoded data removed]",
      "text/plain": [
       "<Figure size 432x288 with 1 Axes>"
      ]
     },
     "metadata": {
      "needs_background": "light"
     },
     "output_type": "display_data"
    },
    {
     "name": "stderr",
     "output_type": "stream",
     "text": [
      "C:\\Users\\Arjun Janamatti\\Anaconda3\\envs\\tf_nptel\\lib\\site-packages\\sklearn\\utils\\validation.py:73: DataConversionWarning: A column-vector y was passed when a 1d array was expected. Please change the shape of y to (n_samples, ), for example using ravel().\n",
      "  return f(**kwargs)\n"
     ]
    },
    {
     "data": {
      "image/png": "[encoded data removed]",
      "text/plain": [
       "<Figure size 432x288 with 1 Axes>"
      ]
     },
     "metadata": {
      "needs_background": "light"
     },
     "output_type": "display_data"
    },
    {
     "name": "stderr",
     "output_type": "stream",
     "text": [
      "C:\\Users\\Arjun Janamatti\\Anaconda3\\envs\\tf_nptel\\lib\\site-packages\\sklearn\\utils\\validation.py:73: DataConversionWarning: A column-vector y was passed when a 1d array was expected. Please change the shape of y to (n_samples, ), for example using ravel().\n",
      "  return f(**kwargs)\n"
     ]
    },
    {
     "data": {
      "image/png": "[encoded data removed]",
      "text/plain": [
       "<Figure size 432x288 with 1 Axes>"
      ]
     },
     "metadata": {
      "needs_background": "light"
     },
     "output_type": "display_data"
    },
    {
     "name": "stderr",
     "output_type": "stream",
     "text": [
      "C:\\Users\\Arjun Janamatti\\Anaconda3\\envs\\tf_nptel\\lib\\site-packages\\sklearn\\utils\\validation.py:73: DataConversionWarning: A column-vector y was passed when a 1d array was expected. Please change the shape of y to (n_samples, ), for example using ravel().\n",
      "  return f(**kwargs)\n"
     ]
    },
    {
     "data": {
      "image/png": "[encoded data removed]",
      "text/plain": [
       "<Figure size 432x288 with 1 Axes>"
      ]
     },
     "metadata": {
      "needs_background": "light"
     },
     "output_type": "display_data"
    }
   ],
   "source": [
    "# reset the dataframe with index and column names as per requirement\n",
    "income_df_transposed, cols = reset_index_gender_df(income_df_transposed)\n",
    "\n",
    "# regression model object\n",
    "possion_model_income = PoissonRegressor()\n",
    "\n",
    "# using the function to create a dataframe with regression results\n",
    "poisson_prediction_df = create_dataframe(possion_model_income, income_df_transposed, cols)\n",
    "\n",
    "# adding the index of years for dataframe\n",
    "income_df_transposed.index = ['2006', '2011', '2016']\n",
    "\n",
    "# combining the original and prediction dataframe\n",
    "df_with_poisson_results_income = pd.concat([income_df_transposed, poisson_prediction_df])\n",
    "\n",
    "# removing the 'Dates' column, since the index column already has dates\n",
    "df_with_poisson_results_income.drop(labels = 'Dates', axis = 1, inplace = True)"
   ]
  },
  {
   "cell_type": "code",
   "execution_count": 55,
   "metadata": {
    "ExecuteTime": {
     "end_time": "2020-10-13T07:19:25.774856Z",
     "start_time": "2020-10-13T07:19:25.762538Z"
    }
   },
   "outputs": [
    {
     "data": {
      "text/html": [
       "<div>\n",
       "<style scoped>\n",
       "    .dataframe tbody tr th:only-of-type {\n",
       "        vertical-align: middle;\n",
       "    }\n",
       "\n",
       "    .dataframe tbody tr th {\n",
       "        vertical-align: top;\n",
       "    }\n",
       "\n",
       "    .dataframe thead th {\n",
       "        text-align: right;\n",
       "    }\n",
       "</style>\n",
       "<table border=\"1\" class=\"dataframe\">\n",
       "  <thead>\n",
       "    <tr style=\"text-align: right;\">\n",
       "      <th></th>\n",
       "      <th>1_399_poisson_model</th>\n",
       "      <th>400_799_poisson_model</th>\n",
       "      <th>800_1499_poisson_model</th>\n",
       "      <th>1499_1999_poisson_model</th>\n",
       "      <th>2000_3999_poisson_model</th>\n",
       "      <th>4000_above_poisson_model</th>\n",
       "    </tr>\n",
       "  </thead>\n",
       "  <tbody>\n",
       "    <tr>\n",
       "      <th>2006</th>\n",
       "      <td>14595.000000</td>\n",
       "      <td>82115.000000</td>\n",
       "      <td>217760.000000</td>\n",
       "      <td>120383.000000</td>\n",
       "      <td>209003.000000</td>\n",
       "      <td>2.499300e+04</td>\n",
       "    </tr>\n",
       "    <tr>\n",
       "      <th>2011</th>\n",
       "      <td>11627.000000</td>\n",
       "      <td>54559.000000</td>\n",
       "      <td>167780.000000</td>\n",
       "      <td>119462.000000</td>\n",
       "      <td>302591.000000</td>\n",
       "      <td>5.834200e+04</td>\n",
       "    </tr>\n",
       "    <tr>\n",
       "      <th>2016</th>\n",
       "      <td>6582.000000</td>\n",
       "      <td>37764.000000</td>\n",
       "      <td>138662.000000</td>\n",
       "      <td>116529.000000</td>\n",
       "      <td>338910.000000</td>\n",
       "      <td>1.340000e+05</td>\n",
       "    </tr>\n",
       "    <tr>\n",
       "      <th>2021</th>\n",
       "      <td>4932.699786</td>\n",
       "      <td>25295.035238</td>\n",
       "      <td>108784.815601</td>\n",
       "      <td>114988.977578</td>\n",
       "      <td>442206.402032</td>\n",
       "      <td>3.098854e+05</td>\n",
       "    </tr>\n",
       "    <tr>\n",
       "      <th>2026</th>\n",
       "      <td>3390.622037</td>\n",
       "      <td>17108.878663</td>\n",
       "      <td>86580.481446</td>\n",
       "      <td>113138.648883</td>\n",
       "      <td>557198.781242</td>\n",
       "      <td>7.158965e+05</td>\n",
       "    </tr>\n",
       "    <tr>\n",
       "      <th>2031</th>\n",
       "      <td>2330.633992</td>\n",
       "      <td>11571.983448</td>\n",
       "      <td>68908.328116</td>\n",
       "      <td>111318.094487</td>\n",
       "      <td>702094.045656</td>\n",
       "      <td>1.653862e+06</td>\n",
       "    </tr>\n",
       "  </tbody>\n",
       "</table>\n",
       "</div>"
      ],
      "text/plain": [
       "      1_399_poisson_model  400_799_poisson_model  800_1499_poisson_model  \\\n",
       "2006         14595.000000           82115.000000           217760.000000   \n",
       "2011         11627.000000           54559.000000           167780.000000   \n",
       "2016          6582.000000           37764.000000           138662.000000   \n",
       "2021          4932.699786           25295.035238           108784.815601   \n",
       "2026          3390.622037           17108.878663            86580.481446   \n",
       "2031          2330.633992           11571.983448            68908.328116   \n",
       "\n",
       "      1499_1999_poisson_model  2000_3999_poisson_model  \\\n",
       "2006            120383.000000            209003.000000   \n",
       "2011            119462.000000            302591.000000   \n",
       "2016            116529.000000            338910.000000   \n",
       "2021            114988.977578            442206.402032   \n",
       "2026            113138.648883            557198.781242   \n",
       "2031            111318.094487            702094.045656   \n",
       "\n",
       "      4000_above_poisson_model  \n",
       "2006              2.499300e+04  \n",
       "2011              5.834200e+04  \n",
       "2016              1.340000e+05  \n",
       "2021              3.098854e+05  \n",
       "2026              7.158965e+05  \n",
       "2031              1.653862e+06  "
      ]
     },
     "execution_count": 55,
     "metadata": {},
     "output_type": "execute_result"
    }
   ],
   "source": [
    "# adding suffix of model name for future identification\n",
    "df_with_poisson_results_income = df_with_poisson_results_income.add_suffix('_poisson_model')\n",
    "df_with_poisson_results_income"
   ]
  },
  {
   "cell_type": "code",
   "execution_count": 56,
   "metadata": {
    "ExecuteTime": {
     "end_time": "2020-10-13T07:19:25.946182Z",
     "start_time": "2020-10-13T07:19:25.777121Z"
    }
   },
   "outputs": [
    {
     "data": {
      "image/png": "[encoded data removed]",
      "text/plain": [
       "<Figure size 504x504 with 1 Axes>"
      ]
     },
     "metadata": {
      "needs_background": "light"
     },
     "output_type": "display_data"
    }
   ],
   "source": [
    "plot_comparison_results(0,\n",
    "                        df_with_linear_results_income, \n",
    "                        df_with_huber_results_income, \n",
    "                        df_with_sgd_results_income, \n",
    "                        df_with_ransac_results_income, \n",
    "                        df_with_poisson_results_income)"
   ]
  },
  {
   "cell_type": "code",
   "execution_count": null,
   "metadata": {},
   "outputs": [],
   "source": []
  }
 ],
 "metadata": {
  "kernelspec": {
   "display_name": "Python 3",
   "language": "python",
   "name": "python3"
  },
  "language_info": {
   "codemirror_mode": {
    "name": "ipython",
    "version": 3
   },
   "file_extension": ".py",
   "mimetype": "text/x-python",
   "name": "python",
   "nbconvert_exporter": "python",
   "pygments_lexer": "ipython3",
   "version": "3.6.10"
  },
  "varInspector": {
   "cols": {
    "lenName": 16,
    "lenType": 16,
    "lenVar": 40
   },
   "kernels_config": {
    "python": {
     "delete_cmd_postfix": "",
     "delete_cmd_prefix": "del ",
     "library": "var_list.py",
     "varRefreshCmd": "print(var_dic_list())"
    },
    "r": {
     "delete_cmd_postfix": ") ",
     "delete_cmd_prefix": "rm(",
     "library": "var_list.r",
     "varRefreshCmd": "cat(var_dic_list()) "
    }
   },
   "types_to_exclude": [
    "module",
    "function",
    "builtin_function_or_method",
    "instance",
    "_Feature"
   ],
   "window_display": false
  }
 },
 "nbformat": 4,
 "nbformat_minor": 4
}
